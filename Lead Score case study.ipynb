{
 "cells":[
  {
   "cell_type":"code",
   "source":[
    "import numpy             as np \n",
    "import pandas            as pd \n",
    "import matplotlib.pyplot as plt\n",
    "import seaborn           as sns\n",
    "\n",
    "\n",
    "\n",
    "import os\n",
    "for dirname, _, filenames in os.walk('\/kaggle\/input'):\n",
    "    for filename in filenames:\n",
    "        print(os.path.join(dirname, filename))"
   ],
   "execution_count":1,
   "outputs":[
    
   ],
   "metadata":{
    "datalore":{
     "node_id":"TWj7zqQdkjTMUKJWo5SxL8",
     "type":"CODE",
     "hide_input_from_viewers":true,
     "hide_output_from_viewers":true
    }
   }
  },
  {
   "cell_type":"code",
   "source":[
    "lead = pd.read_csv(r\"\/data\/notebook_files\/Leads.csv\")\n",
    "pd.set_option('display.max_columns',None)\n",
    "lead.head()"
   ],
   "execution_count":2,
   "outputs":[
    {
     "data":{
      "text\/html":[
       "<div>\n",
       "<style scoped>\n",
       "    .dataframe tbody tr th:only-of-type {\n",
       "        vertical-align: middle;\n",
       "    }\n",
       "\n",
       "    .dataframe tbody tr th {\n",
       "        vertical-align: top;\n",
       "    }\n",
       "\n",
       "    .dataframe thead th {\n",
       "        text-align: right;\n",
       "    }\n",
       "<\/style>\n",
       "<table border=\"1\" class=\"dataframe\">\n",
       "  <thead>\n",
       "    <tr style=\"text-align: right;\">\n",
       "      <th><\/th>\n",
       "      <th>Prospect ID<\/th>\n",
       "      <th>Lead Number<\/th>\n",
       "      <th>Lead Origin<\/th>\n",
       "      <th>Lead Source<\/th>\n",
       "      <th>Do Not Email<\/th>\n",
       "      <th>Do Not Call<\/th>\n",
       "      <th>Converted<\/th>\n",
       "      <th>TotalVisits<\/th>\n",
       "      <th>Total Time Spent on Website<\/th>\n",
       "      <th>Page Views Per Visit<\/th>\n",
       "      <th>Last Activity<\/th>\n",
       "      <th>Country<\/th>\n",
       "      <th>Specialization<\/th>\n",
       "      <th>How did you hear about X Education<\/th>\n",
       "      <th>What is your current occupation<\/th>\n",
       "      <th>What matters most to you in choosing a course<\/th>\n",
       "      <th>Search<\/th>\n",
       "      <th>Magazine<\/th>\n",
       "      <th>Newspaper Article<\/th>\n",
       "      <th>X Education Forums<\/th>\n",
       "      <th>Newspaper<\/th>\n",
       "      <th>Digital Advertisement<\/th>\n",
       "      <th>Through Recommendations<\/th>\n",
       "      <th>Receive More Updates About Our Courses<\/th>\n",
       "      <th>Tags<\/th>\n",
       "      <th>Lead Quality<\/th>\n",
       "      <th>Update me on Supply Chain Content<\/th>\n",
       "      <th>Get updates on DM Content<\/th>\n",
       "      <th>Lead Profile<\/th>\n",
       "      <th>City<\/th>\n",
       "      <th>Asymmetrique Activity Index<\/th>\n",
       "      <th>Asymmetrique Profile Index<\/th>\n",
       "      <th>Asymmetrique Activity Score<\/th>\n",
       "      <th>Asymmetrique Profile Score<\/th>\n",
       "      <th>I agree to pay the amount through cheque<\/th>\n",
       "      <th>A free copy of Mastering The Interview<\/th>\n",
       "      <th>Last Notable Activity<\/th>\n",
       "    <\/tr>\n",
       "  <\/thead>\n",
       "  <tbody>\n",
       "    <tr>\n",
       "      <th>0<\/th>\n",
       "      <td>7927b2df-8bba-4d29-b9a2-b6e0beafe620<\/td>\n",
       "      <td>660737<\/td>\n",
       "      <td>API<\/td>\n",
       "      <td>Olark Chat<\/td>\n",
       "      <td>No<\/td>\n",
       "      <td>No<\/td>\n",
       "      <td>0<\/td>\n",
       "      <td>0.0<\/td>\n",
       "      <td>0<\/td>\n",
       "      <td>0.0<\/td>\n",
       "      <td>Page Visited on Website<\/td>\n",
       "      <td>NaN<\/td>\n",
       "      <td>Select<\/td>\n",
       "      <td>Select<\/td>\n",
       "      <td>Unemployed<\/td>\n",
       "      <td>Better Career Prospects<\/td>\n",
       "      <td>No<\/td>\n",
       "      <td>No<\/td>\n",
       "      <td>No<\/td>\n",
       "      <td>No<\/td>\n",
       "      <td>No<\/td>\n",
       "      <td>No<\/td>\n",
       "      <td>No<\/td>\n",
       "      <td>No<\/td>\n",
       "      <td>Interested in other courses<\/td>\n",
       "      <td>Low in Relevance<\/td>\n",
       "      <td>No<\/td>\n",
       "      <td>No<\/td>\n",
       "      <td>Select<\/td>\n",
       "      <td>Select<\/td>\n",
       "      <td>02.Medium<\/td>\n",
       "      <td>02.Medium<\/td>\n",
       "      <td>15.0<\/td>\n",
       "      <td>15.0<\/td>\n",
       "      <td>No<\/td>\n",
       "      <td>No<\/td>\n",
       "      <td>Modified<\/td>\n",
       "    <\/tr>\n",
       "    <tr>\n",
       "      <th>1<\/th>\n",
       "      <td>2a272436-5132-4136-86fa-dcc88c88f482<\/td>\n",
       "      <td>660728<\/td>\n",
       "      <td>API<\/td>\n",
       "      <td>Organic Search<\/td>\n",
       "      <td>No<\/td>\n",
       "      <td>No<\/td>\n",
       "      <td>0<\/td>\n",
       "      <td>5.0<\/td>\n",
       "      <td>674<\/td>\n",
       "      <td>2.5<\/td>\n",
       "      <td>Email Opened<\/td>\n",
       "      <td>India<\/td>\n",
       "      <td>Select<\/td>\n",
       "      <td>Select<\/td>\n",
       "      <td>Unemployed<\/td>\n",
       "      <td>Better Career Prospects<\/td>\n",
       "      <td>No<\/td>\n",
       "      <td>No<\/td>\n",
       "      <td>No<\/td>\n",
       "      <td>No<\/td>\n",
       "      <td>No<\/td>\n",
       "      <td>No<\/td>\n",
       "      <td>No<\/td>\n",
       "      <td>No<\/td>\n",
       "      <td>Ringing<\/td>\n",
       "      <td>NaN<\/td>\n",
       "      <td>No<\/td>\n",
       "      <td>No<\/td>\n",
       "      <td>Select<\/td>\n",
       "      <td>Select<\/td>\n",
       "      <td>02.Medium<\/td>\n",
       "      <td>02.Medium<\/td>\n",
       "      <td>15.0<\/td>\n",
       "      <td>15.0<\/td>\n",
       "      <td>No<\/td>\n",
       "      <td>No<\/td>\n",
       "      <td>Email Opened<\/td>\n",
       "    <\/tr>\n",
       "    <tr>\n",
       "      <th>2<\/th>\n",
       "      <td>8cc8c611-a219-4f35-ad23-fdfd2656bd8a<\/td>\n",
       "      <td>660727<\/td>\n",
       "      <td>Landing Page Submission<\/td>\n",
       "      <td>Direct Traffic<\/td>\n",
       "      <td>No<\/td>\n",
       "      <td>No<\/td>\n",
       "      <td>1<\/td>\n",
       "      <td>2.0<\/td>\n",
       "      <td>1532<\/td>\n",
       "      <td>2.0<\/td>\n",
       "      <td>Email Opened<\/td>\n",
       "      <td>India<\/td>\n",
       "      <td>Business Administration<\/td>\n",
       "      <td>Select<\/td>\n",
       "      <td>Student<\/td>\n",
       "      <td>Better Career Prospects<\/td>\n",
       "      <td>No<\/td>\n",
       "      <td>No<\/td>\n",
       "      <td>No<\/td>\n",
       "      <td>No<\/td>\n",
       "      <td>No<\/td>\n",
       "      <td>No<\/td>\n",
       "      <td>No<\/td>\n",
       "      <td>No<\/td>\n",
       "      <td>Will revert after reading the email<\/td>\n",
       "      <td>Might be<\/td>\n",
       "      <td>No<\/td>\n",
       "      <td>No<\/td>\n",
       "      <td>Potential Lead<\/td>\n",
       "      <td>Mumbai<\/td>\n",
       "      <td>02.Medium<\/td>\n",
       "      <td>01.High<\/td>\n",
       "      <td>14.0<\/td>\n",
       "      <td>20.0<\/td>\n",
       "      <td>No<\/td>\n",
       "      <td>Yes<\/td>\n",
       "      <td>Email Opened<\/td>\n",
       "    <\/tr>\n",
       "    <tr>\n",
       "      <th>3<\/th>\n",
       "      <td>0cc2df48-7cf4-4e39-9de9-19797f9b38cc<\/td>\n",
       "      <td>660719<\/td>\n",
       "      <td>Landing Page Submission<\/td>\n",
       "      <td>Direct Traffic<\/td>\n",
       "      <td>No<\/td>\n",
       "      <td>No<\/td>\n",
       "      <td>0<\/td>\n",
       "      <td>1.0<\/td>\n",
       "      <td>305<\/td>\n",
       "      <td>1.0<\/td>\n",
       "      <td>Unreachable<\/td>\n",
       "      <td>India<\/td>\n",
       "      <td>Media and Advertising<\/td>\n",
       "      <td>Word Of Mouth<\/td>\n",
       "      <td>Unemployed<\/td>\n",
       "      <td>Better Career Prospects<\/td>\n",
       "      <td>No<\/td>\n",
       "      <td>No<\/td>\n",
       "      <td>No<\/td>\n",
       "      <td>No<\/td>\n",
       "      <td>No<\/td>\n",
       "      <td>No<\/td>\n",
       "      <td>No<\/td>\n",
       "      <td>No<\/td>\n",
       "      <td>Ringing<\/td>\n",
       "      <td>Not Sure<\/td>\n",
       "      <td>No<\/td>\n",
       "      <td>No<\/td>\n",
       "      <td>Select<\/td>\n",
       "      <td>Mumbai<\/td>\n",
       "      <td>02.Medium<\/td>\n",
       "      <td>01.High<\/td>\n",
       "      <td>13.0<\/td>\n",
       "      <td>17.0<\/td>\n",
       "      <td>No<\/td>\n",
       "      <td>No<\/td>\n",
       "      <td>Modified<\/td>\n",
       "    <\/tr>\n",
       "    <tr>\n",
       "      <th>4<\/th>\n",
       "      <td>3256f628-e534-4826-9d63-4a8b88782852<\/td>\n",
       "      <td>660681<\/td>\n",
       "      <td>Landing Page Submission<\/td>\n",
       "      <td>Google<\/td>\n",
       "      <td>No<\/td>\n",
       "      <td>No<\/td>\n",
       "      <td>1<\/td>\n",
       "      <td>2.0<\/td>\n",
       "      <td>1428<\/td>\n",
       "      <td>1.0<\/td>\n",
       "      <td>Converted to Lead<\/td>\n",
       "      <td>India<\/td>\n",
       "      <td>Select<\/td>\n",
       "      <td>Other<\/td>\n",
       "      <td>Unemployed<\/td>\n",
       "      <td>Better Career Prospects<\/td>\n",
       "      <td>No<\/td>\n",
       "      <td>No<\/td>\n",
       "      <td>No<\/td>\n",
       "      <td>No<\/td>\n",
       "      <td>No<\/td>\n",
       "      <td>No<\/td>\n",
       "      <td>No<\/td>\n",
       "      <td>No<\/td>\n",
       "      <td>Will revert after reading the email<\/td>\n",
       "      <td>Might be<\/td>\n",
       "      <td>No<\/td>\n",
       "      <td>No<\/td>\n",
       "      <td>Select<\/td>\n",
       "      <td>Mumbai<\/td>\n",
       "      <td>02.Medium<\/td>\n",
       "      <td>01.High<\/td>\n",
       "      <td>15.0<\/td>\n",
       "      <td>18.0<\/td>\n",
       "      <td>No<\/td>\n",
       "      <td>No<\/td>\n",
       "      <td>Modified<\/td>\n",
       "    <\/tr>\n",
       "  <\/tbody>\n",
       "<\/table>\n",
       "<\/div>"
      ]
     },
     "metadata":{
      
     },
     "output_type":"display_data"
    }
   ],
   "metadata":{
    "datalore":{
     "node_id":"ox7cguyOATzgoAROB6LWCd",
     "type":"CODE",
     "hide_input_from_viewers":true,
     "hide_output_from_viewers":true
    }
   }
  },
  {
   "cell_type":"code",
   "source":[
    "lead.info()"
   ],
   "execution_count":3,
   "outputs":[
    {
     "name":"stdout",
     "text":[
      "<class 'pandas.core.frame.DataFrame'>\n",
      "RangeIndex: 9240 entries, 0 to 9239\n",
      "Data columns (total 37 columns):\n",
      " #   Column                                         Non-Null Count  Dtype  \n",
      "---  ------                                         --------------  -----  \n",
      " 0   Prospect ID                                    9240 non-null   object \n",
      " 1   Lead Number                                    9240 non-null   int64  \n",
      " 2   Lead Origin                                    9240 non-null   object \n",
      " 3   Lead Source                                    9204 non-null   object \n",
      " 4   Do Not Email                                   9240 non-null   object \n",
      " 5   Do Not Call                                    9240 non-null   object \n",
      " 6   Converted                                      9240 non-null   int64  \n",
      " 7   TotalVisits                                    9103 non-null   float64\n",
      " 8   Total Time Spent on Website                    9240 non-null   int64  \n",
      " 9   Page Views Per Visit                           9103 non-null   float64\n",
      " 10  Last Activity                                  9137 non-null   object \n",
      " 11  Country                                        6779 non-null   object \n",
      " 12  Specialization                                 7802 non-null   object \n",
      " 13  How did you hear about X Education             7033 non-null   object \n",
      " 14  What is your current occupation                6550 non-null   object \n",
      " 15  What matters most to you in choosing a course  6531 non-null   object \n",
      " 16  Search                                         9240 non-null   object \n",
      " 17  Magazine                                       9240 non-null   object \n",
      " 18  Newspaper Article                              9240 non-null   object \n",
      " 19  X Education Forums                             9240 non-null   object \n",
      " 20  Newspaper                                      9240 non-null   object \n",
      " 21  Digital Advertisement                          9240 non-null   object \n",
      " 22  Through Recommendations                        9240 non-null   object \n",
      " 23  Receive More Updates About Our Courses         9240 non-null   object \n",
      " 24  Tags                                           5887 non-null   object \n",
      " 25  Lead Quality                                   4473 non-null   object \n",
      " 26  Update me on Supply Chain Content              9240 non-null   object \n",
      " 27  Get updates on DM Content                      9240 non-null   object \n",
      " 28  Lead Profile                                   6531 non-null   object \n",
      " 29  City                                           7820 non-null   object \n",
      " 30  Asymmetrique Activity Index                    5022 non-null   object \n",
      " 31  Asymmetrique Profile Index                     5022 non-null   object \n",
      " 32  Asymmetrique Activity Score                    5022 non-null   float64\n",
      " 33  Asymmetrique Profile Score                     5022 non-null   float64\n",
      " 34  I agree to pay the amount through cheque       9240 non-null   object \n",
      " 35  A free copy of Mastering The Interview         9240 non-null   object \n",
      " 36  Last Notable Activity                          9240 non-null   object \n",
      "dtypes: float64(4), int64(3), object(30)\n",
      "memory usage: 2.6+ MB\n"
     ],
     "output_type":"stream"
    }
   ],
   "metadata":{
    "datalore":{
     "node_id":"VZMxiuhOUBeUPKNdpMrPdg",
     "type":"CODE",
     "hide_input_from_viewers":true,
     "hide_output_from_viewers":true
    }
   }
  },
  {
   "cell_type":"code",
   "source":[
    "import missingno as msno\n",
    "msno.matrix(lead)\n",
    "msno.bar(lead)"
   ],
   "execution_count":4,
   "outputs":[
    {
     "data":{
      "text\/plain":[
       "<Axes: >"
      ]
     },
     "metadata":{
      
     },
     "output_type":"display_data"
    },
    {
     "data":{
      "image\/png":"[encoded data removed]"
     },
     "metadata":{
      "image\/png":{
       
      }
     },
     "output_type":"display_data"
    }
   ],
   "metadata":{
    "datalore":{
     "node_id":"OZRXPsZx0ibKyA0MhsSNTY",
     "type":"CODE",
     "hide_input_from_viewers":true,
     "hide_output_from_viewers":true
    }
   }
  },
  {
   "cell_type":"code",
   "source":[
    "def null_values_check(lead):\n",
    "    null_values    = round((lead.isnull().sum()\/len(lead) * 100),2).to_frame().rename(columns={0:'Null_values_percentage'})\n",
    "    null_values    = pd.DataFrame(null_values)\n",
    "    null_values.reset_index(inplace=True)\n",
    "    return null_values.sort_values(by='Null_values_percentage',ascending=False)"
   ],
   "execution_count":5,
   "outputs":[
    
   ],
   "metadata":{
    "datalore":{
     "node_id":"uy0DHqG9vSjIVk8bjm1b4s",
     "type":"CODE",
     "hide_input_from_viewers":true,
     "hide_output_from_viewers":true
    }
   }
  },
  {
   "cell_type":"code",
   "source":[
    "def impute(df):\n",
    "    from sklearn.impute import SimpleImputer\n",
    "    my_imputer           = SimpleImputer(strategy='most_frequent')\n",
    "    imputed_data         = pd.DataFrame(my_imputer.fit_transform(df))\n",
    "    imputed_data.columns = df.columns\n",
    "    return imputed_data"
   ],
   "execution_count":6,
   "outputs":[
    
   ],
   "metadata":{
    "datalore":{
     "node_id":"SHhD3n5zRoM76bq8xwXMz6",
     "type":"CODE",
     "hide_input_from_viewers":true,
     "hide_output_from_viewers":true
    }
   }
  },
  {
   "cell_type":"code",
   "source":[
    "null_values_check(lead)[:17]"
   ],
   "execution_count":7,
   "outputs":[
    {
     "data":{
      "text\/html":[
       "<div>\n",
       "<style scoped>\n",
       "    .dataframe tbody tr th:only-of-type {\n",
       "        vertical-align: middle;\n",
       "    }\n",
       "\n",
       "    .dataframe tbody tr th {\n",
       "        vertical-align: top;\n",
       "    }\n",
       "\n",
       "    .dataframe thead th {\n",
       "        text-align: right;\n",
       "    }\n",
       "<\/style>\n",
       "<table border=\"1\" class=\"dataframe\">\n",
       "  <thead>\n",
       "    <tr style=\"text-align: right;\">\n",
       "      <th><\/th>\n",
       "      <th>index<\/th>\n",
       "      <th>Null_values_percentage<\/th>\n",
       "    <\/tr>\n",
       "  <\/thead>\n",
       "  <tbody>\n",
       "    <tr>\n",
       "      <th>25<\/th>\n",
       "      <td>Lead Quality<\/td>\n",
       "      <td>51.59<\/td>\n",
       "    <\/tr>\n",
       "    <tr>\n",
       "      <th>30<\/th>\n",
       "      <td>Asymmetrique Activity Index<\/td>\n",
       "      <td>45.65<\/td>\n",
       "    <\/tr>\n",
       "    <tr>\n",
       "      <th>33<\/th>\n",
       "      <td>Asymmetrique Profile Score<\/td>\n",
       "      <td>45.65<\/td>\n",
       "    <\/tr>\n",
       "    <tr>\n",
       "      <th>32<\/th>\n",
       "      <td>Asymmetrique Activity Score<\/td>\n",
       "      <td>45.65<\/td>\n",
       "    <\/tr>\n",
       "    <tr>\n",
       "      <th>31<\/th>\n",
       "      <td>Asymmetrique Profile Index<\/td>\n",
       "      <td>45.65<\/td>\n",
       "    <\/tr>\n",
       "    <tr>\n",
       "      <th>24<\/th>\n",
       "      <td>Tags<\/td>\n",
       "      <td>36.29<\/td>\n",
       "    <\/tr>\n",
       "    <tr>\n",
       "      <th>28<\/th>\n",
       "      <td>Lead Profile<\/td>\n",
       "      <td>29.32<\/td>\n",
       "    <\/tr>\n",
       "    <tr>\n",
       "      <th>15<\/th>\n",
       "      <td>What matters most to you in choosing a course<\/td>\n",
       "      <td>29.32<\/td>\n",
       "    <\/tr>\n",
       "    <tr>\n",
       "      <th>14<\/th>\n",
       "      <td>What is your current occupation<\/td>\n",
       "      <td>29.11<\/td>\n",
       "    <\/tr>\n",
       "    <tr>\n",
       "      <th>11<\/th>\n",
       "      <td>Country<\/td>\n",
       "      <td>26.63<\/td>\n",
       "    <\/tr>\n",
       "    <tr>\n",
       "      <th>13<\/th>\n",
       "      <td>How did you hear about X Education<\/td>\n",
       "      <td>23.89<\/td>\n",
       "    <\/tr>\n",
       "    <tr>\n",
       "      <th>12<\/th>\n",
       "      <td>Specialization<\/td>\n",
       "      <td>15.56<\/td>\n",
       "    <\/tr>\n",
       "    <tr>\n",
       "      <th>29<\/th>\n",
       "      <td>City<\/td>\n",
       "      <td>15.37<\/td>\n",
       "    <\/tr>\n",
       "    <tr>\n",
       "      <th>9<\/th>\n",
       "      <td>Page Views Per Visit<\/td>\n",
       "      <td>1.48<\/td>\n",
       "    <\/tr>\n",
       "    <tr>\n",
       "      <th>7<\/th>\n",
       "      <td>TotalVisits<\/td>\n",
       "      <td>1.48<\/td>\n",
       "    <\/tr>\n",
       "    <tr>\n",
       "      <th>10<\/th>\n",
       "      <td>Last Activity<\/td>\n",
       "      <td>1.11<\/td>\n",
       "    <\/tr>\n",
       "    <tr>\n",
       "      <th>3<\/th>\n",
       "      <td>Lead Source<\/td>\n",
       "      <td>0.39<\/td>\n",
       "    <\/tr>\n",
       "  <\/tbody>\n",
       "<\/table>\n",
       "<\/div>"
      ]
     },
     "metadata":{
      
     },
     "output_type":"display_data"
    }
   ],
   "metadata":{
    "datalore":{
     "node_id":"g9plo9Oq16FwXnbchAEEvh",
     "type":"CODE",
     "hide_input_from_viewers":true,
     "hide_output_from_viewers":true
    }
   }
  },
  {
   "cell_type":"code",
   "source":[
    "print('The shape of lead df before deleting columns:{}'.format(lead.shape))\n",
    "col_eliminated = ['Lead Quality','Asymmetrique Activity Index','Asymmetrique Profile Score',\n",
    "                 'Asymmetrique Activity Score','Asymmetrique Profile Index']\n",
    "lead.drop(columns=col_eliminated,axis=1,inplace=True)\n",
    "print('The shape of lead df after deleting columns:{}'.format(lead.shape))"
   ],
   "execution_count":8,
   "outputs":[
    {
     "name":"stdout",
     "text":[
      "The shape of lead df before deleting columns:(9240, 37)\n",
      "The shape of lead df after deleting columns:(9240, 32)\n"
     ],
     "output_type":"stream"
    }
   ],
   "metadata":{
    "datalore":{
     "node_id":"6Oiz6w1vTyodBVfIDSrhzI",
     "type":"CODE",
     "hide_input_from_viewers":true,
     "hide_output_from_viewers":true
    }
   }
  },
  {
   "cell_type":"code",
   "source":[
    "lead['Lead Profile'].value_counts()"
   ],
   "execution_count":9,
   "outputs":[
    {
     "data":{
      "text\/html":[
       "<pre>Select                         4146\n",
       "Potential Lead                 1613\n",
       "Other Leads                     487\n",
       "Student of SomeSchool           241\n",
       "Lateral Student                  24\n",
       "Dual Specialization Student      20\n",
       "Name: Lead Profile, dtype: int64<\/pre>"
      ]
     },
     "metadata":{
      
     },
     "output_type":"display_data"
    }
   ],
   "metadata":{
    "datalore":{
     "node_id":"h1Q1wVoQHvovngp2TzzF06",
     "type":"CODE",
     "hide_input_from_viewers":true,
     "hide_output_from_viewers":true
    }
   }
  },
  {
   "cell_type":"code",
   "source":[
    "lead['City'].value_counts()"
   ],
   "execution_count":10,
   "outputs":[
    {
     "data":{
      "text\/html":[
       "<pre>Mumbai                         3222\n",
       "Select                         2249\n",
       "Thane & Outskirts               752\n",
       "Other Cities                    686\n",
       "Other Cities of Maharashtra     457\n",
       "Other Metro Cities              380\n",
       "Tier II Cities                   74\n",
       "Name: City, dtype: int64<\/pre>"
      ]
     },
     "metadata":{
      
     },
     "output_type":"display_data"
    }
   ],
   "metadata":{
    "datalore":{
     "node_id":"JfUCKJRuaR7VsY3NLHN7R8",
     "type":"CODE",
     "hide_input_from_viewers":true,
     "hide_output_from_viewers":true
    }
   }
  },
  {
   "cell_type":"code",
   "source":[
    "lead['Specialization'].value_counts()"
   ],
   "execution_count":11,
   "outputs":[
    {
     "data":{
      "text\/html":[
       "<pre>Select                               1942\n",
       "Finance Management                    976\n",
       "Human Resource Management             848\n",
       "Marketing Management                  838\n",
       "Operations Management                 503\n",
       "Business Administration               403\n",
       "IT Projects Management                366\n",
       "Supply Chain Management               349\n",
       "Banking, Investment And Insurance     338\n",
       "Travel and Tourism                    203\n",
       "Media and Advertising                 203\n",
       "International Business                178\n",
       "Healthcare Management                 159\n",
       "Hospitality Management                114\n",
       "E-COMMERCE                            112\n",
       "Retail Management                     100\n",
       "Rural and Agribusiness                 73\n",
       "E-Business                             57\n",
       "Services Excellence                    40\n",
       "Name: Specialization, dtype: int64<\/pre>"
      ]
     },
     "metadata":{
      
     },
     "output_type":"display_data"
    }
   ],
   "metadata":{
    "datalore":{
     "node_id":"TPhQixKaseqLN2MveWyNEx",
     "type":"CODE",
     "hide_input_from_viewers":true,
     "hide_output_from_viewers":true
    }
   }
  },
  {
   "cell_type":"code",
   "source":[
    "lead['What is your current occupation'].value_counts()"
   ],
   "execution_count":12,
   "outputs":[
    {
     "data":{
      "text\/html":[
       "<pre>Unemployed              5600\n",
       "Working Professional     706\n",
       "Student                  210\n",
       "Other                     16\n",
       "Housewife                 10\n",
       "Businessman                8\n",
       "Name: What is your current occupation, dtype: int64<\/pre>"
      ]
     },
     "metadata":{
      
     },
     "output_type":"display_data"
    }
   ],
   "metadata":{
    "datalore":{
     "node_id":"VQEbSojdgvOQ0uMn9eu3Kh",
     "type":"CODE",
     "hide_input_from_viewers":true,
     "hide_output_from_viewers":true
    }
   }
  },
  {
   "cell_type":"code",
   "source":[
    "lead['Country'].value_counts()[:13]"
   ],
   "execution_count":13,
   "outputs":[
    {
     "data":{
      "text\/html":[
       "<pre>India                   6492\n",
       "United States             69\n",
       "United Arab Emirates      53\n",
       "Singapore                 24\n",
       "Saudi Arabia              21\n",
       "United Kingdom            15\n",
       "Australia                 13\n",
       "Qatar                     10\n",
       "Hong Kong                  7\n",
       "Bahrain                    7\n",
       "Oman                       6\n",
       "France                     6\n",
       "unknown                    5\n",
       "Name: Country, dtype: int64<\/pre>"
      ]
     },
     "metadata":{
      
     },
     "output_type":"display_data"
    }
   ],
   "metadata":{
    "datalore":{
     "node_id":"FCpQ004wZknmn5vrMYv6bO",
     "type":"CODE",
     "hide_input_from_viewers":true,
     "hide_output_from_viewers":true
    }
   }
  },
  {
   "cell_type":"code",
   "source":[
    "lead = impute(lead)"
   ],
   "execution_count":14,
   "outputs":[
    
   ],
   "metadata":{
    "datalore":{
     "node_id":"qNbAvUqbbDn1xPjNVFtcwM",
     "type":"CODE",
     "hide_input_from_viewers":true,
     "hide_output_from_viewers":true
    }
   }
  },
  {
   "cell_type":"code",
   "source":[
    "null_values_check(lead)[:5]"
   ],
   "execution_count":15,
   "outputs":[
    {
     "data":{
      "text\/html":[
       "<div>\n",
       "<style scoped>\n",
       "    .dataframe tbody tr th:only-of-type {\n",
       "        vertical-align: middle;\n",
       "    }\n",
       "\n",
       "    .dataframe tbody tr th {\n",
       "        vertical-align: top;\n",
       "    }\n",
       "\n",
       "    .dataframe thead th {\n",
       "        text-align: right;\n",
       "    }\n",
       "<\/style>\n",
       "<table border=\"1\" class=\"dataframe\">\n",
       "  <thead>\n",
       "    <tr style=\"text-align: right;\">\n",
       "      <th><\/th>\n",
       "      <th>index<\/th>\n",
       "      <th>Null_values_percentage<\/th>\n",
       "    <\/tr>\n",
       "  <\/thead>\n",
       "  <tbody>\n",
       "    <tr>\n",
       "      <th>0<\/th>\n",
       "      <td>Prospect ID<\/td>\n",
       "      <td>0.0<\/td>\n",
       "    <\/tr>\n",
       "    <tr>\n",
       "      <th>1<\/th>\n",
       "      <td>Lead Number<\/td>\n",
       "      <td>0.0<\/td>\n",
       "    <\/tr>\n",
       "    <tr>\n",
       "      <th>30<\/th>\n",
       "      <td>A free copy of Mastering The Interview<\/td>\n",
       "      <td>0.0<\/td>\n",
       "    <\/tr>\n",
       "    <tr>\n",
       "      <th>29<\/th>\n",
       "      <td>I agree to pay the amount through cheque<\/td>\n",
       "      <td>0.0<\/td>\n",
       "    <\/tr>\n",
       "    <tr>\n",
       "      <th>28<\/th>\n",
       "      <td>City<\/td>\n",
       "      <td>0.0<\/td>\n",
       "    <\/tr>\n",
       "  <\/tbody>\n",
       "<\/table>\n",
       "<\/div>"
      ]
     },
     "metadata":{
      
     },
     "output_type":"display_data"
    }
   ],
   "metadata":{
    "datalore":{
     "node_id":"PUcwes8XTmW1Rsh0lcyKwe",
     "type":"CODE",
     "hide_input_from_viewers":true,
     "hide_output_from_viewers":true
    }
   }
  },
  {
   "cell_type":"code",
   "source":[
    "sns.countplot(x='Converted',data=lead);"
   ],
   "execution_count":16,
   "outputs":[
    {
     "data":{
      "image\/png":"[encoded data removed]"
     },
     "metadata":{
      "image\/png":{
       
      }
     },
     "output_type":"display_data"
    }
   ],
   "metadata":{
    "datalore":{
     "node_id":"TtHnGeKdGqLUXEFka1C310",
     "type":"CODE",
     "hide_input_from_viewers":true,
     "hide_output_from_viewers":true
    }
   }
  },
  {
   "cell_type":"code",
   "source":[
    "round(lead['Converted'].value_counts()\/len(lead['Converted'])*100,2)"
   ],
   "execution_count":17,
   "outputs":[
    {
     "data":{
      "text\/html":[
       "<pre>0    61.46\n",
       "1    38.54\n",
       "Name: Converted, dtype: float64<\/pre>"
      ]
     },
     "metadata":{
      
     },
     "output_type":"display_data"
    }
   ],
   "metadata":{
    "datalore":{
     "node_id":"Io9TLx3ZFWQyO6fikkZtzg",
     "type":"CODE",
     "hide_input_from_viewers":true,
     "hide_output_from_viewers":true
    }
   }
  },
  {
   "cell_type":"code",
   "source":[
    "#As converted leads less than non-converted leads hence its an imblance dataset  "
   ],
   "execution_count":18,
   "outputs":[
    
   ],
   "metadata":{
    "datalore":{
     "node_id":"8KMDKBMKBCKA6uERw9cC0b",
     "type":"CODE",
     "hide_input_from_viewers":true,
     "hide_output_from_viewers":true
    }
   }
  },
  {
   "cell_type":"code",
   "source":[
    "def eda(col_name1,col_name2,df,l,b):\n",
    "    plt.figure(figsize=(l,b))\n",
    "    g = sns.countplot(x=col_name1,hue=col_name2,data=df)\n",
    "    g.set_xticklabels(labels=g.get_xticklabels(),rotation=90);\n",
    "    plt.legend(loc='upper right');"
   ],
   "execution_count":19,
   "outputs":[
    
   ],
   "metadata":{
    "datalore":{
     "node_id":"kRpKY8W8jNySCYshI9PBN8",
     "type":"CODE",
     "hide_input_from_viewers":true,
     "hide_output_from_viewers":true
    }
   }
  },
  {
   "cell_type":"code",
   "source":[
    "eda('Country','Converted',lead,14,6)"
   ],
   "execution_count":20,
   "outputs":[
    {
     "data":{
      "image\/png":"[encoded data removed]"
     },
     "metadata":{
      "image\/png":{
       
      }
     },
     "output_type":"display_data"
    }
   ],
   "metadata":{
    "datalore":{
     "node_id":"cgueVSBpY3xWwA6BZLXPZl",
     "type":"CODE",
     "hide_input_from_viewers":true,
     "hide_output_from_viewers":true
    }
   }
  },
  {
   "cell_type":"code",
   "source":[
    "eda('Lead Source','Converted',lead,13,6)"
   ],
   "execution_count":21,
   "outputs":[
    {
     "data":{
      "image\/png":"[encoded data removed]"
     },
     "metadata":{
      "image\/png":{
       
      }
     },
     "output_type":"display_data"
    }
   ],
   "metadata":{
    "datalore":{
     "node_id":"cB1505ddK83LIUGVDlBuiW",
     "type":"CODE",
     "hide_input_from_viewers":true,
     "hide_output_from_viewers":true
    }
   }
  },
  {
   "cell_type":"code",
   "source":[
    "eda('Lead Origin','Converted',lead,13,6)"
   ],
   "execution_count":22,
   "outputs":[
    {
     "data":{
      "image\/png":"[encoded data removed]"
     },
     "metadata":{
      "image\/png":{
       
      }
     },
     "output_type":"display_data"
    }
   ],
   "metadata":{
    "datalore":{
     "node_id":"KuDN8UlTQq8eX88hzjoHqp",
     "type":"CODE",
     "hide_input_from_viewers":true,
     "hide_output_from_viewers":true
    }
   }
  },
  {
   "cell_type":"code",
   "source":[
    "def analysing(col_name,df):\n",
    "    unique   = df[col_name].unique()\n",
    "    Analysis = pd.DataFrame(columns=[col_name,'1_per','0_per','1_count','0_count','Total'])\n",
    "    Analysis[col_name] = unique\n",
    "    for value in unique:\n",
    "        Total_values = len(df[(df[col_name] == value)])\n",
    "        Analysis.loc[Analysis[col_name] ==  value,'1_per']   = round((len(df[(df[col_name] == value) & (df['Converted'] == 1)])\/Total_values)*100,2)\n",
    "        Analysis.loc[Analysis[col_name] ==  value,'0_per']   = round((len(df[(df[col_name] == value) & (df['Converted'] == 0)])\/Total_values)*100,2)\n",
    "        Analysis.loc[Analysis[col_name] ==  value,'1_count'] = len(df[(df[col_name] == value) & (df['Converted'] == 1)])\n",
    "        Analysis.loc[Analysis[col_name] ==  value,'0_count'] = len(df[(df[col_name] == value) & (df['Converted'] == 0)])\n",
    "        Analysis.loc[Analysis[col_name] ==  value,'Total']   = Total_values\n",
    "    return Analysis"
   ],
   "execution_count":23,
   "outputs":[
    
   ],
   "metadata":{
    "datalore":{
     "node_id":"R0LVifo6SdtUqu7ATfSl6r",
     "type":"CODE",
     "hide_input_from_viewers":true,
     "hide_output_from_viewers":true
    }
   }
  },
  {
   "cell_type":"code",
   "source":[
    "Analysis_2 = analysing('Country',lead)\n",
    "Analysis_2.sort_values(by='Total',ascending=False)[:15]"
   ],
   "execution_count":24,
   "outputs":[
    {
     "data":{
      "text\/html":[
       "<div>\n",
       "<style scoped>\n",
       "    .dataframe tbody tr th:only-of-type {\n",
       "        vertical-align: middle;\n",
       "    }\n",
       "\n",
       "    .dataframe tbody tr th {\n",
       "        vertical-align: top;\n",
       "    }\n",
       "\n",
       "    .dataframe thead th {\n",
       "        text-align: right;\n",
       "    }\n",
       "<\/style>\n",
       "<table border=\"1\" class=\"dataframe\">\n",
       "  <thead>\n",
       "    <tr style=\"text-align: right;\">\n",
       "      <th><\/th>\n",
       "      <th>Country<\/th>\n",
       "      <th>1_per<\/th>\n",
       "      <th>0_per<\/th>\n",
       "      <th>1_count<\/th>\n",
       "      <th>0_count<\/th>\n",
       "      <th>Total<\/th>\n",
       "    <\/tr>\n",
       "  <\/thead>\n",
       "  <tbody>\n",
       "    <tr>\n",
       "      <th>0<\/th>\n",
       "      <td>India<\/td>\n",
       "      <td>38.84<\/td>\n",
       "      <td>61.16<\/td>\n",
       "      <td>3477<\/td>\n",
       "      <td>5476<\/td>\n",
       "      <td>8953<\/td>\n",
       "    <\/tr>\n",
       "    <tr>\n",
       "      <th>5<\/th>\n",
       "      <td>United States<\/td>\n",
       "      <td>26.09<\/td>\n",
       "      <td>73.91<\/td>\n",
       "      <td>18<\/td>\n",
       "      <td>51<\/td>\n",
       "      <td>69<\/td>\n",
       "    <\/tr>\n",
       "    <tr>\n",
       "      <th>4<\/th>\n",
       "      <td>United Arab Emirates<\/td>\n",
       "      <td>37.74<\/td>\n",
       "      <td>62.26<\/td>\n",
       "      <td>20<\/td>\n",
       "      <td>33<\/td>\n",
       "      <td>53<\/td>\n",
       "    <\/tr>\n",
       "    <tr>\n",
       "      <th>10<\/th>\n",
       "      <td>Singapore<\/td>\n",
       "      <td>45.83<\/td>\n",
       "      <td>54.17<\/td>\n",
       "      <td>11<\/td>\n",
       "      <td>13<\/td>\n",
       "      <td>24<\/td>\n",
       "    <\/tr>\n",
       "    <tr>\n",
       "      <th>12<\/th>\n",
       "      <td>Saudi Arabia<\/td>\n",
       "      <td>19.05<\/td>\n",
       "      <td>80.95<\/td>\n",
       "      <td>4<\/td>\n",
       "      <td>17<\/td>\n",
       "      <td>21<\/td>\n",
       "    <\/tr>\n",
       "    <tr>\n",
       "      <th>7<\/th>\n",
       "      <td>United Kingdom<\/td>\n",
       "      <td>33.33<\/td>\n",
       "      <td>66.67<\/td>\n",
       "      <td>5<\/td>\n",
       "      <td>10<\/td>\n",
       "      <td>15<\/td>\n",
       "    <\/tr>\n",
       "    <tr>\n",
       "      <th>6<\/th>\n",
       "      <td>Australia<\/td>\n",
       "      <td>23.08<\/td>\n",
       "      <td>76.92<\/td>\n",
       "      <td>3<\/td>\n",
       "      <td>10<\/td>\n",
       "      <td>13<\/td>\n",
       "    <\/tr>\n",
       "    <tr>\n",
       "      <th>11<\/th>\n",
       "      <td>Qatar<\/td>\n",
       "      <td>10.0<\/td>\n",
       "      <td>90.0<\/td>\n",
       "      <td>1<\/td>\n",
       "      <td>9<\/td>\n",
       "      <td>10<\/td>\n",
       "    <\/tr>\n",
       "    <tr>\n",
       "      <th>21<\/th>\n",
       "      <td>Hong Kong<\/td>\n",
       "      <td>57.14<\/td>\n",
       "      <td>42.86<\/td>\n",
       "      <td>4<\/td>\n",
       "      <td>3<\/td>\n",
       "      <td>7<\/td>\n",
       "    <\/tr>\n",
       "    <tr>\n",
       "      <th>8<\/th>\n",
       "      <td>Bahrain<\/td>\n",
       "      <td>57.14<\/td>\n",
       "      <td>42.86<\/td>\n",
       "      <td>4<\/td>\n",
       "      <td>3<\/td>\n",
       "      <td>7<\/td>\n",
       "    <\/tr>\n",
       "    <tr>\n",
       "      <th>3<\/th>\n",
       "      <td>Oman<\/td>\n",
       "      <td>50.0<\/td>\n",
       "      <td>50.0<\/td>\n",
       "      <td>3<\/td>\n",
       "      <td>3<\/td>\n",
       "      <td>6<\/td>\n",
       "    <\/tr>\n",
       "    <tr>\n",
       "      <th>14<\/th>\n",
       "      <td>France<\/td>\n",
       "      <td>50.0<\/td>\n",
       "      <td>50.0<\/td>\n",
       "      <td>3<\/td>\n",
       "      <td>3<\/td>\n",
       "      <td>6<\/td>\n",
       "    <\/tr>\n",
       "    <tr>\n",
       "      <th>29<\/th>\n",
       "      <td>unknown<\/td>\n",
       "      <td>20.0<\/td>\n",
       "      <td>80.0<\/td>\n",
       "      <td>1<\/td>\n",
       "      <td>4<\/td>\n",
       "      <td>5<\/td>\n",
       "    <\/tr>\n",
       "    <tr>\n",
       "      <th>27<\/th>\n",
       "      <td>South Africa<\/td>\n",
       "      <td>25.0<\/td>\n",
       "      <td>75.0<\/td>\n",
       "      <td>1<\/td>\n",
       "      <td>3<\/td>\n",
       "      <td>4<\/td>\n",
       "    <\/tr>\n",
       "    <tr>\n",
       "      <th>20<\/th>\n",
       "      <td>Nigeria<\/td>\n",
       "      <td>0.0<\/td>\n",
       "      <td>100.0<\/td>\n",
       "      <td>0<\/td>\n",
       "      <td>4<\/td>\n",
       "      <td>4<\/td>\n",
       "    <\/tr>\n",
       "  <\/tbody>\n",
       "<\/table>\n",
       "<\/div>"
      ]
     },
     "metadata":{
      
     },
     "output_type":"display_data"
    }
   ],
   "metadata":{
    "datalore":{
     "node_id":"Wyn0IHCyahFMseIB8ZOVgr",
     "type":"CODE",
     "hide_input_from_viewers":true,
     "hide_output_from_viewers":true
    }
   }
  },
  {
   "cell_type":"code",
   "source":[
    "eda('Specialization','Converted',lead,14,6)"
   ],
   "execution_count":25,
   "outputs":[
    {
     "data":{
      "image\/png":"[encoded data removed]"
     },
     "metadata":{
      "image\/png":{
       
      }
     },
     "output_type":"display_data"
    }
   ],
   "metadata":{
    "datalore":{
     "node_id":"e7Opm4EVb0Loah1tc5pek5",
     "type":"CODE",
     "hide_input_from_viewers":true,
     "hide_output_from_viewers":true
    }
   }
  },
  {
   "cell_type":"code",
   "source":[
    "Analysis_3 = analysing('Specialization',lead)\n",
    "Analysis_3.sort_values(by='1_count',ascending=False)"
   ],
   "execution_count":26,
   "outputs":[
    {
     "data":{
      "text\/html":[
       "<div>\n",
       "<style scoped>\n",
       "    .dataframe tbody tr th:only-of-type {\n",
       "        vertical-align: middle;\n",
       "    }\n",
       "\n",
       "    .dataframe tbody tr th {\n",
       "        vertical-align: top;\n",
       "    }\n",
       "\n",
       "    .dataframe thead th {\n",
       "        text-align: right;\n",
       "    }\n",
       "<\/style>\n",
       "<table border=\"1\" class=\"dataframe\">\n",
       "  <thead>\n",
       "    <tr style=\"text-align: right;\">\n",
       "      <th><\/th>\n",
       "      <th>Specialization<\/th>\n",
       "      <th>1_per<\/th>\n",
       "      <th>0_per<\/th>\n",
       "      <th>1_count<\/th>\n",
       "      <th>0_count<\/th>\n",
       "      <th>Total<\/th>\n",
       "    <\/tr>\n",
       "  <\/thead>\n",
       "  <tbody>\n",
       "    <tr>\n",
       "      <th>0<\/th>\n",
       "      <td>Select<\/td>\n",
       "      <td>28.67<\/td>\n",
       "      <td>71.33<\/td>\n",
       "      <td>969<\/td>\n",
       "      <td>2411<\/td>\n",
       "      <td>3380<\/td>\n",
       "    <\/tr>\n",
       "    <tr>\n",
       "      <th>5<\/th>\n",
       "      <td>Finance Management<\/td>\n",
       "      <td>44.67<\/td>\n",
       "      <td>55.33<\/td>\n",
       "      <td>436<\/td>\n",
       "      <td>540<\/td>\n",
       "      <td>976<\/td>\n",
       "    <\/tr>\n",
       "    <tr>\n",
       "      <th>8<\/th>\n",
       "      <td>Marketing Management<\/td>\n",
       "      <td>48.69<\/td>\n",
       "      <td>51.31<\/td>\n",
       "      <td>408<\/td>\n",
       "      <td>430<\/td>\n",
       "      <td>838<\/td>\n",
       "    <\/tr>\n",
       "    <tr>\n",
       "      <th>7<\/th>\n",
       "      <td>Human Resource Management<\/td>\n",
       "      <td>45.75<\/td>\n",
       "      <td>54.25<\/td>\n",
       "      <td>388<\/td>\n",
       "      <td>460<\/td>\n",
       "      <td>848<\/td>\n",
       "    <\/tr>\n",
       "    <tr>\n",
       "      <th>12<\/th>\n",
       "      <td>Operations Management<\/td>\n",
       "      <td>47.32<\/td>\n",
       "      <td>52.68<\/td>\n",
       "      <td>238<\/td>\n",
       "      <td>265<\/td>\n",
       "      <td>503<\/td>\n",
       "    <\/tr>\n",
       "    <tr>\n",
       "      <th>1<\/th>\n",
       "      <td>Business Administration<\/td>\n",
       "      <td>44.42<\/td>\n",
       "      <td>55.58<\/td>\n",
       "      <td>179<\/td>\n",
       "      <td>224<\/td>\n",
       "      <td>403<\/td>\n",
       "    <\/tr>\n",
       "    <tr>\n",
       "      <th>9<\/th>\n",
       "      <td>Banking, Investment And Insurance<\/td>\n",
       "      <td>49.41<\/td>\n",
       "      <td>50.59<\/td>\n",
       "      <td>167<\/td>\n",
       "      <td>171<\/td>\n",
       "      <td>338<\/td>\n",
       "    <\/tr>\n",
       "    <tr>\n",
       "      <th>3<\/th>\n",
       "      <td>Supply Chain Management<\/td>\n",
       "      <td>43.27<\/td>\n",
       "      <td>56.73<\/td>\n",
       "      <td>151<\/td>\n",
       "      <td>198<\/td>\n",
       "      <td>349<\/td>\n",
       "    <\/tr>\n",
       "    <tr>\n",
       "      <th>4<\/th>\n",
       "      <td>IT Projects Management<\/td>\n",
       "      <td>38.25<\/td>\n",
       "      <td>61.75<\/td>\n",
       "      <td>140<\/td>\n",
       "      <td>226<\/td>\n",
       "      <td>366<\/td>\n",
       "    <\/tr>\n",
       "    <tr>\n",
       "      <th>2<\/th>\n",
       "      <td>Media and Advertising<\/td>\n",
       "      <td>41.87<\/td>\n",
       "      <td>58.13<\/td>\n",
       "      <td>85<\/td>\n",
       "      <td>118<\/td>\n",
       "      <td>203<\/td>\n",
       "    <\/tr>\n",
       "    <tr>\n",
       "      <th>17<\/th>\n",
       "      <td>Healthcare Management<\/td>\n",
       "      <td>49.69<\/td>\n",
       "      <td>50.31<\/td>\n",
       "      <td>79<\/td>\n",
       "      <td>80<\/td>\n",
       "      <td>159<\/td>\n",
       "    <\/tr>\n",
       "    <tr>\n",
       "      <th>6<\/th>\n",
       "      <td>Travel and Tourism<\/td>\n",
       "      <td>35.47<\/td>\n",
       "      <td>64.53<\/td>\n",
       "      <td>72<\/td>\n",
       "      <td>131<\/td>\n",
       "      <td>203<\/td>\n",
       "    <\/tr>\n",
       "    <tr>\n",
       "      <th>10<\/th>\n",
       "      <td>International Business<\/td>\n",
       "      <td>35.96<\/td>\n",
       "      <td>64.04<\/td>\n",
       "      <td>64<\/td>\n",
       "      <td>114<\/td>\n",
       "      <td>178<\/td>\n",
       "    <\/tr>\n",
       "    <tr>\n",
       "      <th>15<\/th>\n",
       "      <td>Hospitality Management<\/td>\n",
       "      <td>42.11<\/td>\n",
       "      <td>57.89<\/td>\n",
       "      <td>48<\/td>\n",
       "      <td>66<\/td>\n",
       "      <td>114<\/td>\n",
       "    <\/tr>\n",
       "    <tr>\n",
       "      <th>11<\/th>\n",
       "      <td>E-COMMERCE<\/td>\n",
       "      <td>35.71<\/td>\n",
       "      <td>64.29<\/td>\n",
       "      <td>40<\/td>\n",
       "      <td>72<\/td>\n",
       "      <td>112<\/td>\n",
       "    <\/tr>\n",
       "    <tr>\n",
       "      <th>13<\/th>\n",
       "      <td>Retail Management<\/td>\n",
       "      <td>34.0<\/td>\n",
       "      <td>66.0<\/td>\n",
       "      <td>34<\/td>\n",
       "      <td>66<\/td>\n",
       "      <td>100<\/td>\n",
       "    <\/tr>\n",
       "    <tr>\n",
       "      <th>16<\/th>\n",
       "      <td>Rural and Agribusiness<\/td>\n",
       "      <td>42.47<\/td>\n",
       "      <td>57.53<\/td>\n",
       "      <td>31<\/td>\n",
       "      <td>42<\/td>\n",
       "      <td>73<\/td>\n",
       "    <\/tr>\n",
       "    <tr>\n",
       "      <th>18<\/th>\n",
       "      <td>E-Business<\/td>\n",
       "      <td>36.84<\/td>\n",
       "      <td>63.16<\/td>\n",
       "      <td>21<\/td>\n",
       "      <td>36<\/td>\n",
       "      <td>57<\/td>\n",
       "    <\/tr>\n",
       "    <tr>\n",
       "      <th>14<\/th>\n",
       "      <td>Services Excellence<\/td>\n",
       "      <td>27.5<\/td>\n",
       "      <td>72.5<\/td>\n",
       "      <td>11<\/td>\n",
       "      <td>29<\/td>\n",
       "      <td>40<\/td>\n",
       "    <\/tr>\n",
       "  <\/tbody>\n",
       "<\/table>\n",
       "<\/div>"
      ]
     },
     "metadata":{
      
     },
     "output_type":"display_data"
    }
   ],
   "metadata":{
    "datalore":{
     "node_id":"tk8N1x4ejedm319mGyLd9p",
     "type":"CODE",
     "hide_input_from_viewers":true,
     "hide_output_from_viewers":true
    }
   }
  },
  {
   "cell_type":"code",
   "source":[
    "eda('How did you hear about X Education','Converted',lead,14,6)"
   ],
   "execution_count":27,
   "outputs":[
    {
     "data":{
      "image\/png":"[encoded data removed]"
     },
     "metadata":{
      "image\/png":{
       
      }
     },
     "output_type":"display_data"
    }
   ],
   "metadata":{
    "datalore":{
     "node_id":"nu4LXBFpGUnOan87yLyPNT",
     "type":"CODE",
     "hide_input_from_viewers":true,
     "hide_output_from_viewers":true
    }
   }
  },
  {
   "cell_type":"code",
   "source":[
    "eda('What is your current occupation','Converted',lead,14,6)"
   ],
   "execution_count":28,
   "outputs":[
    {
     "data":{
      "image\/png":"[encoded data removed]"
     },
     "metadata":{
      "image\/png":{
       
      }
     },
     "output_type":"display_data"
    }
   ],
   "metadata":{
    "datalore":{
     "node_id":"jdBlw8NmAGwXY2W4U9jiZK",
     "type":"CODE",
     "hide_input_from_viewers":true,
     "hide_output_from_viewers":true
    }
   }
  },
  {
   "cell_type":"code",
   "source":[
    "Analysis_4 = analysing('What matters most to you in choosing a course',lead)\n",
    "Analysis_4.sort_values(by='1_count',ascending=False)"
   ],
   "execution_count":29,
   "outputs":[
    {
     "data":{
      "text\/html":[
       "<div>\n",
       "<style scoped>\n",
       "    .dataframe tbody tr th:only-of-type {\n",
       "        vertical-align: middle;\n",
       "    }\n",
       "\n",
       "    .dataframe tbody tr th {\n",
       "        vertical-align: top;\n",
       "    }\n",
       "\n",
       "    .dataframe thead th {\n",
       "        text-align: right;\n",
       "    }\n",
       "<\/style>\n",
       "<table border=\"1\" class=\"dataframe\">\n",
       "  <thead>\n",
       "    <tr style=\"text-align: right;\">\n",
       "      <th><\/th>\n",
       "      <th>What matters most to you in choosing a course<\/th>\n",
       "      <th>1_per<\/th>\n",
       "      <th>0_per<\/th>\n",
       "      <th>1_count<\/th>\n",
       "      <th>0_count<\/th>\n",
       "      <th>Total<\/th>\n",
       "    <\/tr>\n",
       "  <\/thead>\n",
       "  <tbody>\n",
       "    <tr>\n",
       "      <th>0<\/th>\n",
       "      <td>Better Career Prospects<\/td>\n",
       "      <td>38.54<\/td>\n",
       "      <td>61.46<\/td>\n",
       "      <td>3560<\/td>\n",
       "      <td>5677<\/td>\n",
       "      <td>9237<\/td>\n",
       "    <\/tr>\n",
       "    <tr>\n",
       "      <th>1<\/th>\n",
       "      <td>Flexibility &amp; Convenience<\/td>\n",
       "      <td>50.0<\/td>\n",
       "      <td>50.0<\/td>\n",
       "      <td>1<\/td>\n",
       "      <td>1<\/td>\n",
       "      <td>2<\/td>\n",
       "    <\/tr>\n",
       "    <tr>\n",
       "      <th>2<\/th>\n",
       "      <td>Other<\/td>\n",
       "      <td>0.0<\/td>\n",
       "      <td>100.0<\/td>\n",
       "      <td>0<\/td>\n",
       "      <td>1<\/td>\n",
       "      <td>1<\/td>\n",
       "    <\/tr>\n",
       "  <\/tbody>\n",
       "<\/table>\n",
       "<\/div>"
      ]
     },
     "metadata":{
      
     },
     "output_type":"display_data"
    }
   ],
   "metadata":{
    "datalore":{
     "node_id":"1h3HOHWtTgRLd9pEz3jZUV",
     "type":"CODE",
     "hide_input_from_viewers":true,
     "hide_output_from_viewers":true
    }
   }
  },
  {
   "cell_type":"code",
   "source":[
    "eda('Tags','Converted',lead,14,6)"
   ],
   "execution_count":30,
   "outputs":[
    {
     "data":{
      "image\/png":"[encoded data removed]"
     },
     "metadata":{
      "image\/png":{
       
      }
     },
     "output_type":"display_data"
    }
   ],
   "metadata":{
    "datalore":{
     "node_id":"WSNXDTAp7SUmFrd8roOoyC",
     "type":"CODE",
     "hide_input_from_viewers":true,
     "hide_output_from_viewers":true
    }
   }
  },
  {
   "cell_type":"code",
   "source":[
    "Analysis_5 = analysing('Tags',lead)\n",
    "Analysis_5.sort_values(by='Total',ascending=False)"
   ],
   "execution_count":31,
   "outputs":[
    {
     "data":{
      "text\/html":[
       "<div>\n",
       "<style scoped>\n",
       "    .dataframe tbody tr th:only-of-type {\n",
       "        vertical-align: middle;\n",
       "    }\n",
       "\n",
       "    .dataframe tbody tr th {\n",
       "        vertical-align: top;\n",
       "    }\n",
       "\n",
       "    .dataframe thead th {\n",
       "        text-align: right;\n",
       "    }\n",
       "<\/style>\n",
       "<table border=\"1\" class=\"dataframe\">\n",
       "  <thead>\n",
       "    <tr style=\"text-align: right;\">\n",
       "      <th><\/th>\n",
       "      <th>Tags<\/th>\n",
       "      <th>1_per<\/th>\n",
       "      <th>0_per<\/th>\n",
       "      <th>1_count<\/th>\n",
       "      <th>0_count<\/th>\n",
       "      <th>Total<\/th>\n",
       "    <\/tr>\n",
       "  <\/thead>\n",
       "  <tbody>\n",
       "    <tr>\n",
       "      <th>2<\/th>\n",
       "      <td>Will revert after reading the email<\/td>\n",
       "      <td>52.41<\/td>\n",
       "      <td>47.59<\/td>\n",
       "      <td>2843<\/td>\n",
       "      <td>2582<\/td>\n",
       "      <td>5425<\/td>\n",
       "    <\/tr>\n",
       "    <tr>\n",
       "      <th>1<\/th>\n",
       "      <td>Ringing<\/td>\n",
       "      <td>2.83<\/td>\n",
       "      <td>97.17<\/td>\n",
       "      <td>34<\/td>\n",
       "      <td>1169<\/td>\n",
       "      <td>1203<\/td>\n",
       "    <\/tr>\n",
       "    <tr>\n",
       "      <th>0<\/th>\n",
       "      <td>Interested in other courses<\/td>\n",
       "      <td>2.53<\/td>\n",
       "      <td>97.47<\/td>\n",
       "      <td>13<\/td>\n",
       "      <td>500<\/td>\n",
       "      <td>513<\/td>\n",
       "    <\/tr>\n",
       "    <tr>\n",
       "      <th>8<\/th>\n",
       "      <td>Already a student<\/td>\n",
       "      <td>0.65<\/td>\n",
       "      <td>99.35<\/td>\n",
       "      <td>3<\/td>\n",
       "      <td>462<\/td>\n",
       "      <td>465<\/td>\n",
       "    <\/tr>\n",
       "    <tr>\n",
       "      <th>11<\/th>\n",
       "      <td>Closed by Horizzon<\/td>\n",
       "      <td>99.44<\/td>\n",
       "      <td>0.56<\/td>\n",
       "      <td>356<\/td>\n",
       "      <td>2<\/td>\n",
       "      <td>358<\/td>\n",
       "    <\/tr>\n",
       "    <tr>\n",
       "      <th>6<\/th>\n",
       "      <td>switched off<\/td>\n",
       "      <td>1.67<\/td>\n",
       "      <td>98.33<\/td>\n",
       "      <td>4<\/td>\n",
       "      <td>236<\/td>\n",
       "      <td>240<\/td>\n",
       "    <\/tr>\n",
       "    <tr>\n",
       "      <th>5<\/th>\n",
       "      <td>Busy<\/td>\n",
       "      <td>56.45<\/td>\n",
       "      <td>43.55<\/td>\n",
       "      <td>105<\/td>\n",
       "      <td>81<\/td>\n",
       "      <td>186<\/td>\n",
       "    <\/tr>\n",
       "    <tr>\n",
       "      <th>3<\/th>\n",
       "      <td>Lost to EINS<\/td>\n",
       "      <td>97.71<\/td>\n",
       "      <td>2.29<\/td>\n",
       "      <td>171<\/td>\n",
       "      <td>4<\/td>\n",
       "      <td>175<\/td>\n",
       "    <\/tr>\n",
       "    <tr>\n",
       "      <th>14<\/th>\n",
       "      <td>Not doing further education<\/td>\n",
       "      <td>0.69<\/td>\n",
       "      <td>99.31<\/td>\n",
       "      <td>1<\/td>\n",
       "      <td>144<\/td>\n",
       "      <td>145<\/td>\n",
       "    <\/tr>\n",
       "    <tr>\n",
       "      <th>17<\/th>\n",
       "      <td>Interested  in full time MBA<\/td>\n",
       "      <td>2.56<\/td>\n",
       "      <td>97.44<\/td>\n",
       "      <td>3<\/td>\n",
       "      <td>114<\/td>\n",
       "      <td>117<\/td>\n",
       "    <\/tr>\n",
       "    <tr>\n",
       "      <th>10<\/th>\n",
       "      <td>Graduation in progress<\/td>\n",
       "      <td>6.31<\/td>\n",
       "      <td>93.69<\/td>\n",
       "      <td>7<\/td>\n",
       "      <td>104<\/td>\n",
       "      <td>111<\/td>\n",
       "    <\/tr>\n",
       "    <tr>\n",
       "      <th>15<\/th>\n",
       "      <td>invalid number<\/td>\n",
       "      <td>1.2<\/td>\n",
       "      <td>98.8<\/td>\n",
       "      <td>1<\/td>\n",
       "      <td>82<\/td>\n",
       "      <td>83<\/td>\n",
       "    <\/tr>\n",
       "    <tr>\n",
       "      <th>9<\/th>\n",
       "      <td>Diploma holder (Not Eligible)<\/td>\n",
       "      <td>1.59<\/td>\n",
       "      <td>98.41<\/td>\n",
       "      <td>1<\/td>\n",
       "      <td>62<\/td>\n",
       "      <td>63<\/td>\n",
       "    <\/tr>\n",
       "    <tr>\n",
       "      <th>16<\/th>\n",
       "      <td>wrong number given<\/td>\n",
       "      <td>0.0<\/td>\n",
       "      <td>100.0<\/td>\n",
       "      <td>0<\/td>\n",
       "      <td>47<\/td>\n",
       "      <td>47<\/td>\n",
       "    <\/tr>\n",
       "    <tr>\n",
       "      <th>13<\/th>\n",
       "      <td>opp hangup<\/td>\n",
       "      <td>9.09<\/td>\n",
       "      <td>90.91<\/td>\n",
       "      <td>3<\/td>\n",
       "      <td>30<\/td>\n",
       "      <td>33<\/td>\n",
       "    <\/tr>\n",
       "    <tr>\n",
       "      <th>12<\/th>\n",
       "      <td>number not provided<\/td>\n",
       "      <td>0.0<\/td>\n",
       "      <td>100.0<\/td>\n",
       "      <td>0<\/td>\n",
       "      <td>27<\/td>\n",
       "      <td>27<\/td>\n",
       "    <\/tr>\n",
       "    <tr>\n",
       "      <th>7<\/th>\n",
       "      <td>in touch with EINS<\/td>\n",
       "      <td>25.0<\/td>\n",
       "      <td>75.0<\/td>\n",
       "      <td>3<\/td>\n",
       "      <td>9<\/td>\n",
       "      <td>12<\/td>\n",
       "    <\/tr>\n",
       "    <tr>\n",
       "      <th>19<\/th>\n",
       "      <td>Lost to Others<\/td>\n",
       "      <td>0.0<\/td>\n",
       "      <td>100.0<\/td>\n",
       "      <td>0<\/td>\n",
       "      <td>7<\/td>\n",
       "      <td>7<\/td>\n",
       "    <\/tr>\n",
       "    <tr>\n",
       "      <th>18<\/th>\n",
       "      <td>Still Thinking<\/td>\n",
       "      <td>16.67<\/td>\n",
       "      <td>83.33<\/td>\n",
       "      <td>1<\/td>\n",
       "      <td>5<\/td>\n",
       "      <td>6<\/td>\n",
       "    <\/tr>\n",
       "    <tr>\n",
       "      <th>24<\/th>\n",
       "      <td>Want to take admission but has financial problems<\/td>\n",
       "      <td>33.33<\/td>\n",
       "      <td>66.67<\/td>\n",
       "      <td>2<\/td>\n",
       "      <td>4<\/td>\n",
       "      <td>6<\/td>\n",
       "    <\/tr>\n",
       "    <tr>\n",
       "      <th>4<\/th>\n",
       "      <td>In confusion whether part time or DLP<\/td>\n",
       "      <td>20.0<\/td>\n",
       "      <td>80.0<\/td>\n",
       "      <td>1<\/td>\n",
       "      <td>4<\/td>\n",
       "      <td>5<\/td>\n",
       "    <\/tr>\n",
       "    <tr>\n",
       "      <th>22<\/th>\n",
       "      <td>Interested in Next batch<\/td>\n",
       "      <td>100.0<\/td>\n",
       "      <td>0.0<\/td>\n",
       "      <td>5<\/td>\n",
       "      <td>0<\/td>\n",
       "      <td>5<\/td>\n",
       "    <\/tr>\n",
       "    <tr>\n",
       "      <th>21<\/th>\n",
       "      <td>Lateral student<\/td>\n",
       "      <td>100.0<\/td>\n",
       "      <td>0.0<\/td>\n",
       "      <td>3<\/td>\n",
       "      <td>0<\/td>\n",
       "      <td>3<\/td>\n",
       "    <\/tr>\n",
       "    <tr>\n",
       "      <th>20<\/th>\n",
       "      <td>Shall take in the next coming month<\/td>\n",
       "      <td>50.0<\/td>\n",
       "      <td>50.0<\/td>\n",
       "      <td>1<\/td>\n",
       "      <td>1<\/td>\n",
       "      <td>2<\/td>\n",
       "    <\/tr>\n",
       "    <tr>\n",
       "      <th>25<\/th>\n",
       "      <td>University not recognized<\/td>\n",
       "      <td>0.0<\/td>\n",
       "      <td>100.0<\/td>\n",
       "      <td>0<\/td>\n",
       "      <td>2<\/td>\n",
       "      <td>2<\/td>\n",
       "    <\/tr>\n",
       "    <tr>\n",
       "      <th>23<\/th>\n",
       "      <td>Recognition issue (DEC approval)<\/td>\n",
       "      <td>0.0<\/td>\n",
       "      <td>100.0<\/td>\n",
       "      <td>0<\/td>\n",
       "      <td>1<\/td>\n",
       "      <td>1<\/td>\n",
       "    <\/tr>\n",
       "  <\/tbody>\n",
       "<\/table>\n",
       "<\/div>"
      ]
     },
     "metadata":{
      
     },
     "output_type":"display_data"
    }
   ],
   "metadata":{
    "datalore":{
     "node_id":"Uj858BdLYPUHga7IgZhyUd",
     "type":"CODE",
     "hide_input_from_viewers":true,
     "hide_output_from_viewers":true
    }
   }
  },
  {
   "cell_type":"code",
   "source":[
    "eda('Receive More Updates About Our Courses','Converted',lead,6,6)"
   ],
   "execution_count":32,
   "outputs":[
    {
     "data":{
      "image\/png":"[encoded data removed]"
     },
     "metadata":{
      "image\/png":{
       
      }
     },
     "output_type":"display_data"
    }
   ],
   "metadata":{
    "datalore":{
     "node_id":"nKAATOXdv9p7B5iMMx03St",
     "type":"CODE",
     "hide_input_from_viewers":true,
     "hide_output_from_viewers":true
    }
   }
  },
  {
   "cell_type":"code",
   "source":[
    "eda('Get updates on DM Content','Converted',lead,6,6)"
   ],
   "execution_count":33,
   "outputs":[
    {
     "data":{
      "image\/png":"[encoded data removed]"
     },
     "metadata":{
      "image\/png":{
       
      }
     },
     "output_type":"display_data"
    }
   ],
   "metadata":{
    "datalore":{
     "node_id":"kYOVUHDiHGvpiP7dOl5dfH",
     "type":"CODE",
     "hide_input_from_viewers":true,
     "hide_output_from_viewers":true
    }
   }
  },
  {
   "cell_type":"code",
   "source":[
    "eda('Update me on Supply Chain Content','Converted',lead,6,6)"
   ],
   "execution_count":34,
   "outputs":[
    {
     "data":{
      "image\/png":"[encoded data removed]"
     },
     "metadata":{
      "image\/png":{
       
      }
     },
     "output_type":"display_data"
    }
   ],
   "metadata":{
    "datalore":{
     "node_id":"faNtlNwba7esAflJMP650Y",
     "type":"CODE",
     "hide_input_from_viewers":true,
     "hide_output_from_viewers":true
    }
   }
  },
  {
   "cell_type":"code",
   "source":[
    "eda('Get updates on DM Content','Converted',lead,6,6)"
   ],
   "execution_count":35,
   "outputs":[
    {
     "data":{
      "image\/png":"[encoded data removed]"
     },
     "metadata":{
      "image\/png":{
       
      }
     },
     "output_type":"display_data"
    }
   ],
   "metadata":{
    "datalore":{
     "node_id":"5JzWRk04ec7XYwtBJEFzi9",
     "type":"CODE",
     "hide_input_from_viewers":true,
     "hide_output_from_viewers":true
    }
   }
  },
  {
   "cell_type":"code",
   "source":[
    "eda('City','Converted',lead,9,6)"
   ],
   "execution_count":36,
   "outputs":[
    {
     "data":{
      "image\/png":"[encoded data removed]"
     },
     "metadata":{
      "image\/png":{
       
      }
     },
     "output_type":"display_data"
    }
   ],
   "metadata":{
    "datalore":{
     "node_id":"hH9sT6vHbYMCmwspCEAJnX",
     "type":"CODE",
     "hide_input_from_viewers":true,
     "hide_output_from_viewers":true
    }
   }
  },
  {
   "cell_type":"code",
   "source":[
    "Analysis_6 = analysing('Last Notable Activity',lead)\n",
    "Analysis_6.sort_values(by='Total',ascending=False)"
   ],
   "execution_count":37,
   "outputs":[
    {
     "data":{
      "text\/html":[
       "<div>\n",
       "<style scoped>\n",
       "    .dataframe tbody tr th:only-of-type {\n",
       "        vertical-align: middle;\n",
       "    }\n",
       "\n",
       "    .dataframe tbody tr th {\n",
       "        vertical-align: top;\n",
       "    }\n",
       "\n",
       "    .dataframe thead th {\n",
       "        text-align: right;\n",
       "    }\n",
       "<\/style>\n",
       "<table border=\"1\" class=\"dataframe\">\n",
       "  <thead>\n",
       "    <tr style=\"text-align: right;\">\n",
       "      <th><\/th>\n",
       "      <th>Last Notable Activity<\/th>\n",
       "      <th>1_per<\/th>\n",
       "      <th>0_per<\/th>\n",
       "      <th>1_count<\/th>\n",
       "      <th>0_count<\/th>\n",
       "      <th>Total<\/th>\n",
       "    <\/tr>\n",
       "  <\/thead>\n",
       "  <tbody>\n",
       "    <tr>\n",
       "      <th>0<\/th>\n",
       "      <td>Modified<\/td>\n",
       "      <td>22.98<\/td>\n",
       "      <td>77.02<\/td>\n",
       "      <td>783<\/td>\n",
       "      <td>2624<\/td>\n",
       "      <td>3407<\/td>\n",
       "    <\/tr>\n",
       "    <tr>\n",
       "      <th>1<\/th>\n",
       "      <td>Email Opened<\/td>\n",
       "      <td>36.93<\/td>\n",
       "      <td>63.07<\/td>\n",
       "      <td>1044<\/td>\n",
       "      <td>1783<\/td>\n",
       "      <td>2827<\/td>\n",
       "    <\/tr>\n",
       "    <tr>\n",
       "      <th>9<\/th>\n",
       "      <td>SMS Sent<\/td>\n",
       "      <td>69.43<\/td>\n",
       "      <td>30.57<\/td>\n",
       "      <td>1508<\/td>\n",
       "      <td>664<\/td>\n",
       "      <td>2172<\/td>\n",
       "    <\/tr>\n",
       "    <tr>\n",
       "      <th>2<\/th>\n",
       "      <td>Page Visited on Website<\/td>\n",
       "      <td>29.25<\/td>\n",
       "      <td>70.75<\/td>\n",
       "      <td>93<\/td>\n",
       "      <td>225<\/td>\n",
       "      <td>318<\/td>\n",
       "    <\/tr>\n",
       "    <tr>\n",
       "      <th>8<\/th>\n",
       "      <td>Olark Chat Conversation<\/td>\n",
       "      <td>13.66<\/td>\n",
       "      <td>86.34<\/td>\n",
       "      <td>25<\/td>\n",
       "      <td>158<\/td>\n",
       "      <td>183<\/td>\n",
       "    <\/tr>\n",
       "    <tr>\n",
       "      <th>4<\/th>\n",
       "      <td>Email Link Clicked<\/td>\n",
       "      <td>26.01<\/td>\n",
       "      <td>73.99<\/td>\n",
       "      <td>45<\/td>\n",
       "      <td>128<\/td>\n",
       "      <td>173<\/td>\n",
       "    <\/tr>\n",
       "    <tr>\n",
       "      <th>3<\/th>\n",
       "      <td>Email Bounced<\/td>\n",
       "      <td>15.0<\/td>\n",
       "      <td>85.0<\/td>\n",
       "      <td>9<\/td>\n",
       "      <td>51<\/td>\n",
       "      <td>60<\/td>\n",
       "    <\/tr>\n",
       "    <tr>\n",
       "      <th>6<\/th>\n",
       "      <td>Unsubscribed<\/td>\n",
       "      <td>29.79<\/td>\n",
       "      <td>70.21<\/td>\n",
       "      <td>14<\/td>\n",
       "      <td>33<\/td>\n",
       "      <td>47<\/td>\n",
       "    <\/tr>\n",
       "    <tr>\n",
       "      <th>5<\/th>\n",
       "      <td>Unreachable<\/td>\n",
       "      <td>68.75<\/td>\n",
       "      <td>31.25<\/td>\n",
       "      <td>22<\/td>\n",
       "      <td>10<\/td>\n",
       "      <td>32<\/td>\n",
       "    <\/tr>\n",
       "    <tr>\n",
       "      <th>7<\/th>\n",
       "      <td>Had a Phone Conversation<\/td>\n",
       "      <td>92.86<\/td>\n",
       "      <td>7.14<\/td>\n",
       "      <td>13<\/td>\n",
       "      <td>1<\/td>\n",
       "      <td>14<\/td>\n",
       "    <\/tr>\n",
       "    <tr>\n",
       "      <th>15<\/th>\n",
       "      <td>Email Marked Spam<\/td>\n",
       "      <td>100.0<\/td>\n",
       "      <td>0.0<\/td>\n",
       "      <td>2<\/td>\n",
       "      <td>0<\/td>\n",
       "      <td>2<\/td>\n",
       "    <\/tr>\n",
       "    <tr>\n",
       "      <th>10<\/th>\n",
       "      <td>Approached upfront<\/td>\n",
       "      <td>100.0<\/td>\n",
       "      <td>0.0<\/td>\n",
       "      <td>1<\/td>\n",
       "      <td>0<\/td>\n",
       "      <td>1<\/td>\n",
       "    <\/tr>\n",
       "    <tr>\n",
       "      <th>11<\/th>\n",
       "      <td>Resubscribed to emails<\/td>\n",
       "      <td>100.0<\/td>\n",
       "      <td>0.0<\/td>\n",
       "      <td>1<\/td>\n",
       "      <td>0<\/td>\n",
       "      <td>1<\/td>\n",
       "    <\/tr>\n",
       "    <tr>\n",
       "      <th>12<\/th>\n",
       "      <td>View in browser link Clicked<\/td>\n",
       "      <td>0.0<\/td>\n",
       "      <td>100.0<\/td>\n",
       "      <td>0<\/td>\n",
       "      <td>1<\/td>\n",
       "      <td>1<\/td>\n",
       "    <\/tr>\n",
       "    <tr>\n",
       "      <th>13<\/th>\n",
       "      <td>Form Submitted on Website<\/td>\n",
       "      <td>0.0<\/td>\n",
       "      <td>100.0<\/td>\n",
       "      <td>0<\/td>\n",
       "      <td>1<\/td>\n",
       "      <td>1<\/td>\n",
       "    <\/tr>\n",
       "    <tr>\n",
       "      <th>14<\/th>\n",
       "      <td>Email Received<\/td>\n",
       "      <td>100.0<\/td>\n",
       "      <td>0.0<\/td>\n",
       "      <td>1<\/td>\n",
       "      <td>0<\/td>\n",
       "      <td>1<\/td>\n",
       "    <\/tr>\n",
       "  <\/tbody>\n",
       "<\/table>\n",
       "<\/div>"
      ]
     },
     "metadata":{
      
     },
     "output_type":"display_data"
    }
   ],
   "metadata":{
    "datalore":{
     "node_id":"t0C8tuVOEIj4APXIaSSaSk",
     "type":"CODE",
     "hide_input_from_viewers":true,
     "hide_output_from_viewers":true
    }
   }
  },
  {
   "cell_type":"code",
   "source":[
    "Analysis_7 = analysing('Last Activity',lead)\n",
    "Analysis_7.sort_values(by='Total',ascending=False)"
   ],
   "execution_count":38,
   "outputs":[
    {
     "data":{
      "text\/html":[
       "<div>\n",
       "<style scoped>\n",
       "    .dataframe tbody tr th:only-of-type {\n",
       "        vertical-align: middle;\n",
       "    }\n",
       "\n",
       "    .dataframe tbody tr th {\n",
       "        vertical-align: top;\n",
       "    }\n",
       "\n",
       "    .dataframe thead th {\n",
       "        text-align: right;\n",
       "    }\n",
       "<\/style>\n",
       "<table border=\"1\" class=\"dataframe\">\n",
       "  <thead>\n",
       "    <tr style=\"text-align: right;\">\n",
       "      <th><\/th>\n",
       "      <th>Last Activity<\/th>\n",
       "      <th>1_per<\/th>\n",
       "      <th>0_per<\/th>\n",
       "      <th>1_count<\/th>\n",
       "      <th>0_count<\/th>\n",
       "      <th>Total<\/th>\n",
       "    <\/tr>\n",
       "  <\/thead>\n",
       "  <tbody>\n",
       "    <tr>\n",
       "      <th>1<\/th>\n",
       "      <td>Email Opened<\/td>\n",
       "      <td>37.68<\/td>\n",
       "      <td>62.32<\/td>\n",
       "      <td>1334<\/td>\n",
       "      <td>2206<\/td>\n",
       "      <td>3540<\/td>\n",
       "    <\/tr>\n",
       "    <tr>\n",
       "      <th>12<\/th>\n",
       "      <td>SMS Sent<\/td>\n",
       "      <td>62.91<\/td>\n",
       "      <td>37.09<\/td>\n",
       "      <td>1727<\/td>\n",
       "      <td>1018<\/td>\n",
       "      <td>2745<\/td>\n",
       "    <\/tr>\n",
       "    <tr>\n",
       "      <th>4<\/th>\n",
       "      <td>Olark Chat Conversation<\/td>\n",
       "      <td>8.63<\/td>\n",
       "      <td>91.37<\/td>\n",
       "      <td>84<\/td>\n",
       "      <td>889<\/td>\n",
       "      <td>973<\/td>\n",
       "    <\/tr>\n",
       "    <tr>\n",
       "      <th>0<\/th>\n",
       "      <td>Page Visited on Website<\/td>\n",
       "      <td>23.59<\/td>\n",
       "      <td>76.41<\/td>\n",
       "      <td>151<\/td>\n",
       "      <td>489<\/td>\n",
       "      <td>640<\/td>\n",
       "    <\/tr>\n",
       "    <tr>\n",
       "      <th>3<\/th>\n",
       "      <td>Converted to Lead<\/td>\n",
       "      <td>12.62<\/td>\n",
       "      <td>87.38<\/td>\n",
       "      <td>54<\/td>\n",
       "      <td>374<\/td>\n",
       "      <td>428<\/td>\n",
       "    <\/tr>\n",
       "    <tr>\n",
       "      <th>5<\/th>\n",
       "      <td>Email Bounced<\/td>\n",
       "      <td>7.98<\/td>\n",
       "      <td>92.02<\/td>\n",
       "      <td>26<\/td>\n",
       "      <td>300<\/td>\n",
       "      <td>326<\/td>\n",
       "    <\/tr>\n",
       "    <tr>\n",
       "      <th>6<\/th>\n",
       "      <td>Email Link Clicked<\/td>\n",
       "      <td>27.34<\/td>\n",
       "      <td>72.66<\/td>\n",
       "      <td>73<\/td>\n",
       "      <td>194<\/td>\n",
       "      <td>267<\/td>\n",
       "    <\/tr>\n",
       "    <tr>\n",
       "      <th>7<\/th>\n",
       "      <td>Form Submitted on Website<\/td>\n",
       "      <td>24.14<\/td>\n",
       "      <td>75.86<\/td>\n",
       "      <td>28<\/td>\n",
       "      <td>88<\/td>\n",
       "      <td>116<\/td>\n",
       "    <\/tr>\n",
       "    <tr>\n",
       "      <th>2<\/th>\n",
       "      <td>Unreachable<\/td>\n",
       "      <td>33.33<\/td>\n",
       "      <td>66.67<\/td>\n",
       "      <td>31<\/td>\n",
       "      <td>62<\/td>\n",
       "      <td>93<\/td>\n",
       "    <\/tr>\n",
       "    <tr>\n",
       "      <th>8<\/th>\n",
       "      <td>Unsubscribed<\/td>\n",
       "      <td>26.23<\/td>\n",
       "      <td>73.77<\/td>\n",
       "      <td>16<\/td>\n",
       "      <td>45<\/td>\n",
       "      <td>61<\/td>\n",
       "    <\/tr>\n",
       "    <tr>\n",
       "      <th>9<\/th>\n",
       "      <td>Had a Phone Conversation<\/td>\n",
       "      <td>73.33<\/td>\n",
       "      <td>26.67<\/td>\n",
       "      <td>22<\/td>\n",
       "      <td>8<\/td>\n",
       "      <td>30<\/td>\n",
       "    <\/tr>\n",
       "    <tr>\n",
       "      <th>11<\/th>\n",
       "      <td>Approached upfront<\/td>\n",
       "      <td>100.0<\/td>\n",
       "      <td>0.0<\/td>\n",
       "      <td>9<\/td>\n",
       "      <td>0<\/td>\n",
       "      <td>9<\/td>\n",
       "    <\/tr>\n",
       "    <tr>\n",
       "      <th>10<\/th>\n",
       "      <td>View in browser link Clicked<\/td>\n",
       "      <td>16.67<\/td>\n",
       "      <td>83.33<\/td>\n",
       "      <td>1<\/td>\n",
       "      <td>5<\/td>\n",
       "      <td>6<\/td>\n",
       "    <\/tr>\n",
       "    <tr>\n",
       "      <th>15<\/th>\n",
       "      <td>Email Received<\/td>\n",
       "      <td>100.0<\/td>\n",
       "      <td>0.0<\/td>\n",
       "      <td>2<\/td>\n",
       "      <td>0<\/td>\n",
       "      <td>2<\/td>\n",
       "    <\/tr>\n",
       "    <tr>\n",
       "      <th>16<\/th>\n",
       "      <td>Email Marked Spam<\/td>\n",
       "      <td>100.0<\/td>\n",
       "      <td>0.0<\/td>\n",
       "      <td>2<\/td>\n",
       "      <td>0<\/td>\n",
       "      <td>2<\/td>\n",
       "    <\/tr>\n",
       "    <tr>\n",
       "      <th>13<\/th>\n",
       "      <td>Visited Booth in Tradeshow<\/td>\n",
       "      <td>0.0<\/td>\n",
       "      <td>100.0<\/td>\n",
       "      <td>0<\/td>\n",
       "      <td>1<\/td>\n",
       "      <td>1<\/td>\n",
       "    <\/tr>\n",
       "    <tr>\n",
       "      <th>14<\/th>\n",
       "      <td>Resubscribed to emails<\/td>\n",
       "      <td>100.0<\/td>\n",
       "      <td>0.0<\/td>\n",
       "      <td>1<\/td>\n",
       "      <td>0<\/td>\n",
       "      <td>1<\/td>\n",
       "    <\/tr>\n",
       "  <\/tbody>\n",
       "<\/table>\n",
       "<\/div>"
      ]
     },
     "metadata":{
      
     },
     "output_type":"display_data"
    }
   ],
   "metadata":{
    "datalore":{
     "node_id":"5t0qvVXhNWe2gzBGinbEDx",
     "type":"CODE",
     "hide_input_from_viewers":true,
     "hide_output_from_viewers":true
    }
   }
  },
  {
   "cell_type":"code",
   "source":[
    "eda('Through Recommendations','Converted',lead,11,6)"
   ],
   "execution_count":39,
   "outputs":[
    {
     "data":{
      "image\/png":"[encoded data removed]"
     },
     "metadata":{
      "image\/png":{
       
      }
     },
     "output_type":"display_data"
    }
   ],
   "metadata":{
    "datalore":{
     "node_id":"xAlNy2r8Mgs6TZujja0Q7H",
     "type":"CODE",
     "hide_input_from_viewers":true,
     "hide_output_from_viewers":true
    }
   }
  },
  {
   "cell_type":"code",
   "source":[
    "Analysis_7 = analysing('Through Recommendations',lead)\n",
    "Analysis_7.sort_values(by='Total',ascending=False)"
   ],
   "execution_count":40,
   "outputs":[
    {
     "data":{
      "text\/html":[
       "<div>\n",
       "<style scoped>\n",
       "    .dataframe tbody tr th:only-of-type {\n",
       "        vertical-align: middle;\n",
       "    }\n",
       "\n",
       "    .dataframe tbody tr th {\n",
       "        vertical-align: top;\n",
       "    }\n",
       "\n",
       "    .dataframe thead th {\n",
       "        text-align: right;\n",
       "    }\n",
       "<\/style>\n",
       "<table border=\"1\" class=\"dataframe\">\n",
       "  <thead>\n",
       "    <tr style=\"text-align: right;\">\n",
       "      <th><\/th>\n",
       "      <th>Through Recommendations<\/th>\n",
       "      <th>1_per<\/th>\n",
       "      <th>0_per<\/th>\n",
       "      <th>1_count<\/th>\n",
       "      <th>0_count<\/th>\n",
       "      <th>Total<\/th>\n",
       "    <\/tr>\n",
       "  <\/thead>\n",
       "  <tbody>\n",
       "    <tr>\n",
       "      <th>0<\/th>\n",
       "      <td>No<\/td>\n",
       "      <td>38.51<\/td>\n",
       "      <td>61.49<\/td>\n",
       "      <td>3556<\/td>\n",
       "      <td>5677<\/td>\n",
       "      <td>9233<\/td>\n",
       "    <\/tr>\n",
       "    <tr>\n",
       "      <th>1<\/th>\n",
       "      <td>Yes<\/td>\n",
       "      <td>71.43<\/td>\n",
       "      <td>28.57<\/td>\n",
       "      <td>5<\/td>\n",
       "      <td>2<\/td>\n",
       "      <td>7<\/td>\n",
       "    <\/tr>\n",
       "  <\/tbody>\n",
       "<\/table>\n",
       "<\/div>"
      ]
     },
     "metadata":{
      
     },
     "output_type":"display_data"
    }
   ],
   "metadata":{
    "datalore":{
     "node_id":"yxs6NnYZKqYhO1mExUshf8",
     "type":"CODE",
     "hide_input_from_viewers":true,
     "hide_output_from_viewers":true
    }
   }
  },
  {
   "cell_type":"code",
   "source":[
    "eda('Do Not Email','Converted',lead,6,6)"
   ],
   "execution_count":41,
   "outputs":[
    {
     "data":{
      "image\/png":"[encoded data removed]"
     },
     "metadata":{
      "image\/png":{
       
      }
     },
     "output_type":"display_data"
    }
   ],
   "metadata":{
    "datalore":{
     "node_id":"jnOvlB8s9QwcBzK2RRmXmx",
     "type":"CODE",
     "hide_input_from_viewers":true,
     "hide_output_from_viewers":true
    }
   }
  },
  {
   "cell_type":"code",
   "source":[
    "Analysis_8 = analysing('Do Not Email',lead)\n",
    "Analysis_8.sort_values(by='Total',ascending=False)"
   ],
   "execution_count":42,
   "outputs":[
    {
     "data":{
      "text\/html":[
       "<div>\n",
       "<style scoped>\n",
       "    .dataframe tbody tr th:only-of-type {\n",
       "        vertical-align: middle;\n",
       "    }\n",
       "\n",
       "    .dataframe tbody tr th {\n",
       "        vertical-align: top;\n",
       "    }\n",
       "\n",
       "    .dataframe thead th {\n",
       "        text-align: right;\n",
       "    }\n",
       "<\/style>\n",
       "<table border=\"1\" class=\"dataframe\">\n",
       "  <thead>\n",
       "    <tr style=\"text-align: right;\">\n",
       "      <th><\/th>\n",
       "      <th>Do Not Email<\/th>\n",
       "      <th>1_per<\/th>\n",
       "      <th>0_per<\/th>\n",
       "      <th>1_count<\/th>\n",
       "      <th>0_count<\/th>\n",
       "      <th>Total<\/th>\n",
       "    <\/tr>\n",
       "  <\/thead>\n",
       "  <tbody>\n",
       "    <tr>\n",
       "      <th>0<\/th>\n",
       "      <td>No<\/td>\n",
       "      <td>40.48<\/td>\n",
       "      <td>59.52<\/td>\n",
       "      <td>3443<\/td>\n",
       "      <td>5063<\/td>\n",
       "      <td>8506<\/td>\n",
       "    <\/tr>\n",
       "    <tr>\n",
       "      <th>1<\/th>\n",
       "      <td>Yes<\/td>\n",
       "      <td>16.08<\/td>\n",
       "      <td>83.92<\/td>\n",
       "      <td>118<\/td>\n",
       "      <td>616<\/td>\n",
       "      <td>734<\/td>\n",
       "    <\/tr>\n",
       "  <\/tbody>\n",
       "<\/table>\n",
       "<\/div>"
      ]
     },
     "metadata":{
      
     },
     "output_type":"display_data"
    }
   ],
   "metadata":{
    "datalore":{
     "node_id":"GCA7jfW0ua0R8aq8xdYAEr",
     "type":"CODE",
     "hide_input_from_viewers":true,
     "hide_output_from_viewers":true
    }
   }
  },
  {
   "cell_type":"code",
   "source":[
    "eda('Do Not Call','Converted',lead,6,6)"
   ],
   "execution_count":43,
   "outputs":[
    {
     "data":{
      "image\/png":"[encoded data removed]"
     },
     "metadata":{
      "image\/png":{
       
      }
     },
     "output_type":"display_data"
    }
   ],
   "metadata":{
    "datalore":{
     "node_id":"hvXprRzVRdWvTc0VYFCOSf",
     "type":"CODE",
     "hide_input_from_viewers":true,
     "hide_output_from_viewers":true
    }
   }
  },
  {
   "cell_type":"code",
   "source":[
    "Analysis_9 = analysing('Do Not Call',lead)\n",
    "Analysis_9.sort_values(by='Total',ascending=False)"
   ],
   "execution_count":44,
   "outputs":[
    {
     "data":{
      "text\/html":[
       "<div>\n",
       "<style scoped>\n",
       "    .dataframe tbody tr th:only-of-type {\n",
       "        vertical-align: middle;\n",
       "    }\n",
       "\n",
       "    .dataframe tbody tr th {\n",
       "        vertical-align: top;\n",
       "    }\n",
       "\n",
       "    .dataframe thead th {\n",
       "        text-align: right;\n",
       "    }\n",
       "<\/style>\n",
       "<table border=\"1\" class=\"dataframe\">\n",
       "  <thead>\n",
       "    <tr style=\"text-align: right;\">\n",
       "      <th><\/th>\n",
       "      <th>Do Not Call<\/th>\n",
       "      <th>1_per<\/th>\n",
       "      <th>0_per<\/th>\n",
       "      <th>1_count<\/th>\n",
       "      <th>0_count<\/th>\n",
       "      <th>Total<\/th>\n",
       "    <\/tr>\n",
       "  <\/thead>\n",
       "  <tbody>\n",
       "    <tr>\n",
       "      <th>0<\/th>\n",
       "      <td>No<\/td>\n",
       "      <td>38.53<\/td>\n",
       "      <td>61.47<\/td>\n",
       "      <td>3559<\/td>\n",
       "      <td>5679<\/td>\n",
       "      <td>9238<\/td>\n",
       "    <\/tr>\n",
       "    <tr>\n",
       "      <th>1<\/th>\n",
       "      <td>Yes<\/td>\n",
       "      <td>100.0<\/td>\n",
       "      <td>0.0<\/td>\n",
       "      <td>2<\/td>\n",
       "      <td>0<\/td>\n",
       "      <td>2<\/td>\n",
       "    <\/tr>\n",
       "  <\/tbody>\n",
       "<\/table>\n",
       "<\/div>"
      ]
     },
     "metadata":{
      
     },
     "output_type":"display_data"
    }
   ],
   "metadata":{
    "datalore":{
     "node_id":"ge8mCgzLYs7BiPpM90DOoe",
     "type":"CODE",
     "hide_input_from_viewers":true,
     "hide_output_from_viewers":true
    }
   }
  },
  {
   "cell_type":"code",
   "source":[
    "eda('Newspaper','Converted',lead,6,6)\n",
    "eda('Digital Advertisement','Converted',lead,6,6)\n",
    "eda('X Education Forums','Converted',lead,6,6)\n",
    "eda('Newspaper Article','Converted',lead,6,6)\n",
    "eda('Magazine','Converted',lead,6,6)\n",
    "eda('Search','Converted',lead,6,6)\n",
    "eda('TotalVisits','Converted',lead,16,6)"
   ],
   "execution_count":45,
   "outputs":[
    {
     "data":{
      "image\/png":"[encoded data removed]"
     },
     "metadata":{
      "image\/png":{
       
      }
     },
     "output_type":"display_data"
    },
    {
     "data":{
      "image\/png":"[encoded data removed]"
     },
     "metadata":{
      "image\/png":{
       
      }
     },
     "output_type":"display_data"
    },
    {
     "data":{
      "image\/png":"[encoded data removed]"
     },
     "metadata":{
      "image\/png":{
       
      }
     },
     "output_type":"display_data"
    },
    {
     "data":{
      "image\/png":"[encoded data removed]"
     },
     "metadata":{
      "image\/png":{
       
      }
     },
     "output_type":"display_data"
    },
    {
     "data":{
      "image\/png":"[encoded data removed]"
     },
     "metadata":{
      "image\/png":{
       
      }
     },
     "output_type":"display_data"
    },
    {
     "data":{
      "image\/png":"[encoded data removed]"
     },
     "metadata":{
      "image\/png":{
       
      }
     },
     "output_type":"display_data"
    },
    {
     "data":{
      "image\/png":"[encoded data removed]"
     },
     "metadata":{
      "image\/png":{
       
      }
     },
     "output_type":"display_data"
    }
   ],
   "metadata":{
    "datalore":{
     "node_id":"zycY4S5CTvFrruKiTPporu",
     "type":"CODE",
     "hide_input_from_viewers":true,
     "hide_output_from_viewers":true
    }
   }
  },
  {
   "cell_type":"code",
   "source":[
    "lead['ad'] = lead['Digital Advertisement'] + lead['Newspaper'] + lead['X Education Forums']+ lead['Newspaper Article'] + lead['Magazine'] + lead['Search']\n",
    "lead['ad'].value_counts()"
   ],
   "execution_count":46,
   "outputs":[
    {
     "data":{
      "text\/html":[
       "<pre>NoNoNoNoNoNo        9221\n",
       "NoNoNoNoNoYes         13\n",
       "YesNoNoNoNoNo          3\n",
       "NoYesNoNoNoNo          1\n",
       "YesNoYesYesNoYes       1\n",
       "NoNoNoYesNoNo          1\n",
       "Name: ad, dtype: int64<\/pre>"
      ]
     },
     "metadata":{
      
     },
     "output_type":"display_data"
    }
   ],
   "metadata":{
    "datalore":{
     "node_id":"5PURxAKG0rbcErMIkIPeFD",
     "type":"CODE",
     "hide_input_from_viewers":true,
     "hide_output_from_viewers":true
    }
   }
  },
  {
   "cell_type":"code",
   "source":[
    "col_to_be_eliminated = ['What matters most to you in choosing a course','Receive More Updates About Our Courses',\n",
    "                       'Update me on Supply Chain Content','Get updates on DM Content',\n",
    "                       'I agree to pay the amount through cheque','Through Recommendations','Do Not Email',\n",
    "                       'Do Not Call','Digital Advertisement','Newspaper','X Education Forums',\n",
    "                       'Newspaper Article','Magazine','Search','ad']\n",
    "print('The shape of df before deleting reduntant columns: {}'.format(lead.shape))\n",
    "print('The no of columns to be removed:{}'.format(len(col_to_be_eliminated)))\n",
    "lead.drop(columns=col_to_be_eliminated,axis=1,inplace=True)\n",
    "print('The shape of df after  deleting reduntant columns: {}'.format(lead.shape))"
   ],
   "execution_count":47,
   "outputs":[
    {
     "name":"stdout",
     "text":[
      "The shape of df before deleting reduntant columns: (9240, 33)\n",
      "The no of columns to be removed:15\n",
      "The shape of df after  deleting reduntant columns: (9240, 18)\n"
     ],
     "output_type":"stream"
    }
   ],
   "metadata":{
    "datalore":{
     "node_id":"7ap8vMajeh2BEsLWLXR3t0",
     "type":"CODE",
     "hide_input_from_viewers":true,
     "hide_output_from_viewers":true
    }
   }
  },
  {
   "cell_type":"code",
   "source":[
    "lead.head()"
   ],
   "execution_count":48,
   "outputs":[
    {
     "data":{
      "text\/html":[
       "<div>\n",
       "<style scoped>\n",
       "    .dataframe tbody tr th:only-of-type {\n",
       "        vertical-align: middle;\n",
       "    }\n",
       "\n",
       "    .dataframe tbody tr th {\n",
       "        vertical-align: top;\n",
       "    }\n",
       "\n",
       "    .dataframe thead th {\n",
       "        text-align: right;\n",
       "    }\n",
       "<\/style>\n",
       "<table border=\"1\" class=\"dataframe\">\n",
       "  <thead>\n",
       "    <tr style=\"text-align: right;\">\n",
       "      <th><\/th>\n",
       "      <th>Prospect ID<\/th>\n",
       "      <th>Lead Number<\/th>\n",
       "      <th>Lead Origin<\/th>\n",
       "      <th>Lead Source<\/th>\n",
       "      <th>Converted<\/th>\n",
       "      <th>TotalVisits<\/th>\n",
       "      <th>Total Time Spent on Website<\/th>\n",
       "      <th>Page Views Per Visit<\/th>\n",
       "      <th>Last Activity<\/th>\n",
       "      <th>Country<\/th>\n",
       "      <th>Specialization<\/th>\n",
       "      <th>How did you hear about X Education<\/th>\n",
       "      <th>What is your current occupation<\/th>\n",
       "      <th>Tags<\/th>\n",
       "      <th>Lead Profile<\/th>\n",
       "      <th>City<\/th>\n",
       "      <th>A free copy of Mastering The Interview<\/th>\n",
       "      <th>Last Notable Activity<\/th>\n",
       "    <\/tr>\n",
       "  <\/thead>\n",
       "  <tbody>\n",
       "    <tr>\n",
       "      <th>0<\/th>\n",
       "      <td>7927b2df-8bba-4d29-b9a2-b6e0beafe620<\/td>\n",
       "      <td>660737<\/td>\n",
       "      <td>API<\/td>\n",
       "      <td>Olark Chat<\/td>\n",
       "      <td>0<\/td>\n",
       "      <td>0.0<\/td>\n",
       "      <td>0<\/td>\n",
       "      <td>0.0<\/td>\n",
       "      <td>Page Visited on Website<\/td>\n",
       "      <td>India<\/td>\n",
       "      <td>Select<\/td>\n",
       "      <td>Select<\/td>\n",
       "      <td>Unemployed<\/td>\n",
       "      <td>Interested in other courses<\/td>\n",
       "      <td>Select<\/td>\n",
       "      <td>Select<\/td>\n",
       "      <td>No<\/td>\n",
       "      <td>Modified<\/td>\n",
       "    <\/tr>\n",
       "    <tr>\n",
       "      <th>1<\/th>\n",
       "      <td>2a272436-5132-4136-86fa-dcc88c88f482<\/td>\n",
       "      <td>660728<\/td>\n",
       "      <td>API<\/td>\n",
       "      <td>Organic Search<\/td>\n",
       "      <td>0<\/td>\n",
       "      <td>5.0<\/td>\n",
       "      <td>674<\/td>\n",
       "      <td>2.5<\/td>\n",
       "      <td>Email Opened<\/td>\n",
       "      <td>India<\/td>\n",
       "      <td>Select<\/td>\n",
       "      <td>Select<\/td>\n",
       "      <td>Unemployed<\/td>\n",
       "      <td>Ringing<\/td>\n",
       "      <td>Select<\/td>\n",
       "      <td>Select<\/td>\n",
       "      <td>No<\/td>\n",
       "      <td>Email Opened<\/td>\n",
       "    <\/tr>\n",
       "    <tr>\n",
       "      <th>2<\/th>\n",
       "      <td>8cc8c611-a219-4f35-ad23-fdfd2656bd8a<\/td>\n",
       "      <td>660727<\/td>\n",
       "      <td>Landing Page Submission<\/td>\n",
       "      <td>Direct Traffic<\/td>\n",
       "      <td>1<\/td>\n",
       "      <td>2.0<\/td>\n",
       "      <td>1532<\/td>\n",
       "      <td>2.0<\/td>\n",
       "      <td>Email Opened<\/td>\n",
       "      <td>India<\/td>\n",
       "      <td>Business Administration<\/td>\n",
       "      <td>Select<\/td>\n",
       "      <td>Student<\/td>\n",
       "      <td>Will revert after reading the email<\/td>\n",
       "      <td>Potential Lead<\/td>\n",
       "      <td>Mumbai<\/td>\n",
       "      <td>Yes<\/td>\n",
       "      <td>Email Opened<\/td>\n",
       "    <\/tr>\n",
       "    <tr>\n",
       "      <th>3<\/th>\n",
       "      <td>0cc2df48-7cf4-4e39-9de9-19797f9b38cc<\/td>\n",
       "      <td>660719<\/td>\n",
       "      <td>Landing Page Submission<\/td>\n",
       "      <td>Direct Traffic<\/td>\n",
       "      <td>0<\/td>\n",
       "      <td>1.0<\/td>\n",
       "      <td>305<\/td>\n",
       "      <td>1.0<\/td>\n",
       "      <td>Unreachable<\/td>\n",
       "      <td>India<\/td>\n",
       "      <td>Media and Advertising<\/td>\n",
       "      <td>Word Of Mouth<\/td>\n",
       "      <td>Unemployed<\/td>\n",
       "      <td>Ringing<\/td>\n",
       "      <td>Select<\/td>\n",
       "      <td>Mumbai<\/td>\n",
       "      <td>No<\/td>\n",
       "      <td>Modified<\/td>\n",
       "    <\/tr>\n",
       "    <tr>\n",
       "      <th>4<\/th>\n",
       "      <td>3256f628-e534-4826-9d63-4a8b88782852<\/td>\n",
       "      <td>660681<\/td>\n",
       "      <td>Landing Page Submission<\/td>\n",
       "      <td>Google<\/td>\n",
       "      <td>1<\/td>\n",
       "      <td>2.0<\/td>\n",
       "      <td>1428<\/td>\n",
       "      <td>1.0<\/td>\n",
       "      <td>Converted to Lead<\/td>\n",
       "      <td>India<\/td>\n",
       "      <td>Select<\/td>\n",
       "      <td>Other<\/td>\n",
       "      <td>Unemployed<\/td>\n",
       "      <td>Will revert after reading the email<\/td>\n",
       "      <td>Select<\/td>\n",
       "      <td>Mumbai<\/td>\n",
       "      <td>No<\/td>\n",
       "      <td>Modified<\/td>\n",
       "    <\/tr>\n",
       "  <\/tbody>\n",
       "<\/table>\n",
       "<\/div>"
      ]
     },
     "metadata":{
      
     },
     "output_type":"display_data"
    }
   ],
   "metadata":{
    "datalore":{
     "node_id":"ZXWPCQNxyiNLY5cqxHcPvC",
     "type":"CODE",
     "hide_input_from_viewers":true,
     "hide_output_from_viewers":true
    }
   }
  },
  {
   "cell_type":"code",
   "source":[
    "lead = lead.apply(pd.to_numeric, errors='ignore')"
   ],
   "execution_count":49,
   "outputs":[
    
   ],
   "metadata":{
    "datalore":{
     "node_id":"4FWgxIkSA0eVRb7Sr4H5BC",
     "type":"CODE",
     "hide_input_from_viewers":true,
     "hide_output_from_viewers":true
    }
   }
  },
  {
   "cell_type":"code",
   "source":[
    "from sklearn.preprocessing import LabelEncoder\n",
    "le = LabelEncoder()\n",
    "cat_list        = lead.select_dtypes('O').columns\n",
    "\n",
    "#Printing the no of categorical columns before conversion \n",
    "print('Before LabelEncoding')\n",
    "print('The no of categorical columns in dataset are {}'.format(len(lead.select_dtypes('O').columns)))\n",
    "\n",
    "#Converting the cat columns into numerical \n",
    "for column_name in cat_list:\n",
    "    lead[column_name] = le.fit_transform(lead[column_name])\n",
    "\n",
    "#Printing the no of categorical columns before conversion \n",
    "print('---'*30)\n",
    "print('After LabelEncoding')\n",
    "print('The no of categorical columns in dataset are {}'.format(len(lead.select_dtypes('O').columns)))"
   ],
   "execution_count":50,
   "outputs":[
    {
     "name":"stdout",
     "text":[
      "Before LabelEncoding\n",
      "The no of categorical columns in dataset are 13\n",
      "------------------------------------------------------------------------------------------\n",
      "After LabelEncoding\n",
      "The no of categorical columns in dataset are 0\n"
     ],
     "output_type":"stream"
    }
   ],
   "metadata":{
    "datalore":{
     "node_id":"Ud31VsAFTRp35QxV50oEzc",
     "type":"CODE",
     "hide_input_from_viewers":true,
     "hide_output_from_viewers":true
    }
   }
  },
  {
   "cell_type":"code",
   "source":[
    "lead.head()"
   ],
   "execution_count":51,
   "outputs":[
    {
     "data":{
      "text\/html":[
       "<div>\n",
       "<style scoped>\n",
       "    .dataframe tbody tr th:only-of-type {\n",
       "        vertical-align: middle;\n",
       "    }\n",
       "\n",
       "    .dataframe tbody tr th {\n",
       "        vertical-align: top;\n",
       "    }\n",
       "\n",
       "    .dataframe thead th {\n",
       "        text-align: right;\n",
       "    }\n",
       "<\/style>\n",
       "<table border=\"1\" class=\"dataframe\">\n",
       "  <thead>\n",
       "    <tr style=\"text-align: right;\">\n",
       "      <th><\/th>\n",
       "      <th>Prospect ID<\/th>\n",
       "      <th>Lead Number<\/th>\n",
       "      <th>Lead Origin<\/th>\n",
       "      <th>Lead Source<\/th>\n",
       "      <th>Converted<\/th>\n",
       "      <th>TotalVisits<\/th>\n",
       "      <th>Total Time Spent on Website<\/th>\n",
       "      <th>Page Views Per Visit<\/th>\n",
       "      <th>Last Activity<\/th>\n",
       "      <th>Country<\/th>\n",
       "      <th>Specialization<\/th>\n",
       "      <th>How did you hear about X Education<\/th>\n",
       "      <th>What is your current occupation<\/th>\n",
       "      <th>Tags<\/th>\n",
       "      <th>Lead Profile<\/th>\n",
       "      <th>City<\/th>\n",
       "      <th>A free copy of Mastering The Interview<\/th>\n",
       "      <th>Last Notable Activity<\/th>\n",
       "    <\/tr>\n",
       "  <\/thead>\n",
       "  <tbody>\n",
       "    <tr>\n",
       "      <th>0<\/th>\n",
       "      <td>4427<\/td>\n",
       "      <td>660737<\/td>\n",
       "      <td>0<\/td>\n",
       "      <td>6<\/td>\n",
       "      <td>0<\/td>\n",
       "      <td>0.0<\/td>\n",
       "      <td>0<\/td>\n",
       "      <td>0.0<\/td>\n",
       "      <td>10<\/td>\n",
       "      <td>12<\/td>\n",
       "      <td>15<\/td>\n",
       "      <td>6<\/td>\n",
       "      <td>4<\/td>\n",
       "      <td>8<\/td>\n",
       "      <td>4<\/td>\n",
       "      <td>4<\/td>\n",
       "      <td>0<\/td>\n",
       "      <td>8<\/td>\n",
       "    <\/tr>\n",
       "    <tr>\n",
       "      <th>1<\/th>\n",
       "      <td>1554<\/td>\n",
       "      <td>660728<\/td>\n",
       "      <td>0<\/td>\n",
       "      <td>7<\/td>\n",
       "      <td>0<\/td>\n",
       "      <td>5.0<\/td>\n",
       "      <td>674<\/td>\n",
       "      <td>2.5<\/td>\n",
       "      <td>5<\/td>\n",
       "      <td>12<\/td>\n",
       "      <td>15<\/td>\n",
       "      <td>6<\/td>\n",
       "      <td>4<\/td>\n",
       "      <td>14<\/td>\n",
       "      <td>4<\/td>\n",
       "      <td>4<\/td>\n",
       "      <td>0<\/td>\n",
       "      <td>4<\/td>\n",
       "    <\/tr>\n",
       "    <tr>\n",
       "      <th>2<\/th>\n",
       "      <td>5140<\/td>\n",
       "      <td>660727<\/td>\n",
       "      <td>1<\/td>\n",
       "      <td>1<\/td>\n",
       "      <td>1<\/td>\n",
       "      <td>2.0<\/td>\n",
       "      <td>1532<\/td>\n",
       "      <td>2.0<\/td>\n",
       "      <td>5<\/td>\n",
       "      <td>12<\/td>\n",
       "      <td>1<\/td>\n",
       "      <td>6<\/td>\n",
       "      <td>3<\/td>\n",
       "      <td>19<\/td>\n",
       "      <td>3<\/td>\n",
       "      <td>0<\/td>\n",
       "      <td>1<\/td>\n",
       "      <td>4<\/td>\n",
       "    <\/tr>\n",
       "    <tr>\n",
       "      <th>3<\/th>\n",
       "      <td>467<\/td>\n",
       "      <td>660719<\/td>\n",
       "      <td>1<\/td>\n",
       "      <td>1<\/td>\n",
       "      <td>0<\/td>\n",
       "      <td>1.0<\/td>\n",
       "      <td>305<\/td>\n",
       "      <td>1.0<\/td>\n",
       "      <td>13<\/td>\n",
       "      <td>12<\/td>\n",
       "      <td>11<\/td>\n",
       "      <td>9<\/td>\n",
       "      <td>4<\/td>\n",
       "      <td>14<\/td>\n",
       "      <td>4<\/td>\n",
       "      <td>0<\/td>\n",
       "      <td>0<\/td>\n",
       "      <td>8<\/td>\n",
       "    <\/tr>\n",
       "    <tr>\n",
       "      <th>4<\/th>\n",
       "      <td>1874<\/td>\n",
       "      <td>660681<\/td>\n",
       "      <td>1<\/td>\n",
       "      <td>3<\/td>\n",
       "      <td>1<\/td>\n",
       "      <td>2.0<\/td>\n",
       "      <td>1428<\/td>\n",
       "      <td>1.0<\/td>\n",
       "      <td>1<\/td>\n",
       "      <td>12<\/td>\n",
       "      <td>15<\/td>\n",
       "      <td>4<\/td>\n",
       "      <td>4<\/td>\n",
       "      <td>19<\/td>\n",
       "      <td>4<\/td>\n",
       "      <td>0<\/td>\n",
       "      <td>0<\/td>\n",
       "      <td>8<\/td>\n",
       "    <\/tr>\n",
       "  <\/tbody>\n",
       "<\/table>\n",
       "<\/div>"
      ]
     },
     "metadata":{
      
     },
     "output_type":"display_data"
    }
   ],
   "metadata":{
    "datalore":{
     "node_id":"y4G211sZWAdD643iwGaKlh",
     "type":"CODE",
     "hide_input_from_viewers":true,
     "hide_output_from_viewers":true
    }
   }
  },
  {
   "cell_type":"code",
   "source":[
    "from sklearn.model_selection import train_test_split\n",
    "col_list = ['Prospect ID', 'Lead Number', 'Lead Origin', 'Lead Source','TotalVisits', \n",
    "          'Total Time Spent on Website', 'Page Views Per Visit','Last Activity', 'Country', \n",
    "          'Specialization','How did you hear about X Education', 'What is your current occupation',\n",
    "          'Tags', 'Lead Profile', 'City','A free copy of Mastering The Interview', \n",
    "          'Last Notable Activity'] \n",
    "\n",
    "X = lead[col_list].copy()\n",
    "y = lead['Converted'].copy()\n",
    "X_train, X_test, y_train, y_test = train_test_split(X, y, test_size=0.40, random_state=42)"
   ],
   "execution_count":52,
   "outputs":[
    
   ],
   "metadata":{
    "datalore":{
     "node_id":"7GFrNUVA7ZLhghXL5h8NRd",
     "type":"CODE",
     "hide_input_from_viewers":true,
     "hide_output_from_viewers":true
    }
   }
  },
  {
   "cell_type":"code",
   "source":[
    "from imblearn.over_sampling import SMOTE\n",
    "sm = SMOTE(random_state = 33)\n",
    "X_train_new, y_train_new = sm.fit_resample(X_train, y_train.ravel())\n",
    "pd.Series(y_train_new).value_counts().plot.bar()"
   ],
   "execution_count":53,
   "outputs":[
    {
     "data":{
      "text\/plain":[
       "<Axes: >"
      ]
     },
     "metadata":{
      
     },
     "output_type":"display_data"
    },
    {
     "data":{
      "image\/png":"[encoded data removed]"
     },
     "metadata":{
      "image\/png":{
       
      }
     },
     "output_type":"display_data"
    }
   ],
   "metadata":{
    "datalore":{
     "node_id":"I5jqS6be4pbNfd9jABvpKX",
     "type":"CODE",
     "hide_input_from_viewers":true,
     "hide_output_from_viewers":true
    }
   }
  },
  {
   "cell_type":"code",
   "source":[
    "from sklearn.preprocessing import StandardScaler\n",
    "SS = StandardScaler()\n",
    "\n",
    "X_train_new = pd.DataFrame(SS.fit_transform(X_train_new), columns=X_train_new.columns, index=X_train_new.index)\n",
    "X_test      = pd.DataFrame(SS.transform(X_test), columns=X_test.columns, index=X_test.index)"
   ],
   "execution_count":54,
   "outputs":[
    
   ],
   "metadata":{
    "datalore":{
     "node_id":"OzHFGLx3B1vscqA8OjdCPm",
     "type":"CODE",
     "hide_input_from_viewers":true,
     "hide_output_from_viewers":true
    }
   }
  },
  {
   "cell_type":"code",
   "source":[
    "def prediction(model_name,x_test,y_test,thre):\n",
    "    y_pred                        = model_name.predict(x_test)\n",
    "    y_pred_final                  = pd.DataFrame({'train_Prob':y_pred})\n",
    "    y_pred_final['real_op']       = y_test\n",
    "    y_pred_final['pred_op']       = y_pred_final['train_Prob'].apply(lambda x:1 if x>thre else 0)\n",
    "    return y_pred_final"
   ],
   "execution_count":55,
   "outputs":[
    
   ],
   "metadata":{
    "datalore":{
     "node_id":"ELEKBNV6xpztQyI9RRgcZA",
     "type":"CODE",
     "hide_input_from_viewers":true,
     "hide_output_from_viewers":true
    }
   }
  },
  {
   "cell_type":"code",
   "source":[
    "def validating_lr(y_real,y_pred):\n",
    "    from sklearn.metrics import confusion_matrix, accuracy_score\n",
    "    import seaborn as sns\n",
    "    confusion = confusion_matrix(y_pred,y_real)\n",
    "    sns.heatmap(confusion,annot=True,fmt='',cmap='Blues')\n",
    "    print('Accuracy Score',(accuracy_score(y_pred,y_real)*100))\n",
    "    TP = confusion[1,1] # true positive \n",
    "    TN = confusion[0,0] # true negatives\n",
    "    FP = confusion[0,1] # false positives\n",
    "    FN = confusion[1,0] # false negatives\n",
    "    TPR = round(((TP \/ float(TP+FP)*100)),2)\n",
    "    FPR = round(((FP\/ float(TN+FP)*100)),2)\n",
    "    #print('True Positive rate                         :',round((TP \/ float(TP+FP)*100)),2)\n",
    "    #print('False postive rate(predicting 1 when its 0):',round((FP\/ float(TN+FP)*100)),2)\n",
    "    print('True Positive rate                         :{}'.format(TPR))\n",
    "    print('False postive rate(predicting 1 when its 0):{}'.format(FPR))\n",
    "    print('\\n')\n",
    "    #print('Negative predictive value:',(TN \/ float(TN+ FN)*100))"
   ],
   "execution_count":56,
   "outputs":[
    
   ],
   "metadata":{
    "datalore":{
     "node_id":"Y5WxkL7q5FWfPn1Kqej8UQ",
     "type":"CODE",
     "hide_input_from_viewers":true,
     "hide_output_from_viewers":true
    }
   }
  },
  {
   "cell_type":"code",
   "source":[
    "def draw_roc( actual, probs ):\n",
    "    from sklearn.metrics import roc_curve,roc_auc_score\n",
    "    fpr, tpr, thresholds = roc_curve( actual, probs,drop_intermediate = False )\n",
    "    auc_score = roc_auc_score( actual, probs )\n",
    "    plt.figure(figsize=(5, 5))\n",
    "    plt.plot( fpr, tpr, label='ROC curve (area = %0.2f)' % auc_score )\n",
    "    plt.plot([0, 1], [0, 1], 'k--')\n",
    "    plt.xlim([0.0, 1.0])\n",
    "    plt.ylim([0.0, 1.05])\n",
    "    plt.xlabel('False Positive Rate or [1 - True Negative Rate]')\n",
    "    plt.ylabel('True Positive Rate')\n",
    "    plt.title('Receiver operating characteristic example')\n",
    "    plt.legend(loc=\"lower right\")\n",
    "    plt.show()\n",
    "    return None\n",
    "    fpr, tpr, thresholds = roc_curve( y_train_pred_final.Churn, y_train_pred_final.Churn_Prob, drop_intermediate = False )\n",
    "    draw_roc(y_train_pred_final.Churn, y_train_pred_final.Churn_Prob)"
   ],
   "execution_count":57,
   "outputs":[
    
   ],
   "metadata":{
    "datalore":{
     "node_id":"reLuDv6piul62zNWQXFJ7n",
     "type":"CODE",
     "hide_input_from_viewers":true,
     "hide_output_from_viewers":true
    }
   }
  },
  {
   "cell_type":"code",
   "source":[
    "def vif_validation(X_train):\n",
    "    from statsmodels.stats.outliers_influence import variance_inflation_factor\n",
    "    # Create a dataframe that will contain the names of all the feature variables and their respective VIFs\n",
    "    vif = pd.DataFrame()\n",
    "    vif['Features']  = X_train.columns\n",
    "    vif['VIF']       = [variance_inflation_factor(X_train.values, i) for i in range(X_train.shape[1])]\n",
    "    vif['VIF']       = round(vif['VIF'], 2)\n",
    "    vif              = vif.sort_values(by = \"VIF\", ascending = False)\n",
    "    return vif"
   ],
   "execution_count":58,
   "outputs":[
    
   ],
   "metadata":{
    "datalore":{
     "node_id":"45VvqsXRADH5oEIJwVWh4a",
     "type":"CODE",
     "hide_input_from_viewers":true,
     "hide_output_from_viewers":true
    }
   }
  },
  {
   "cell_type":"code",
   "source":[
    "import statsmodels.api as sm\n",
    "\n",
    "#Features for model no 1\n",
    "fcol_list = ['Lead Number', 'Lead Origin', 'Lead Source','TotalVisits', \n",
    "          'Total Time Spent on Website', 'Page Views Per Visit','Last Activity', 'Country', \n",
    "          'Specialization','How did you hear about X Education', 'What is your current occupation',\n",
    "          'Tags', 'Lead Profile', 'City','A free copy of Mastering The Interview', \n",
    "          'Last Notable Activity']\n",
    "\n",
    "#Adding constants \n",
    "X_train_new_sm = sm.add_constant(X_train_new[fcol_list])\n",
    "lr   = sm.GLM(y_train_new,X_train_new_sm, family = sm.families.Binomial())\n",
    "lr_1 = lr.fit() \n",
    "lr_1.summary()"
   ],
   "execution_count":59,
   "outputs":[
    {
     "data":{
      "text\/html":[
       "<table class=\"simpletable\">\n",
       "<caption>Generalized Linear Model Regression Results<\/caption>\n",
       "<tr>\n",
       "  <th>Dep. Variable:<\/th>           <td>y<\/td>        <th>  No. Observations:  <\/th>  <td>  6868<\/td> \n",
       "<\/tr>\n",
       "<tr>\n",
       "  <th>Model:<\/th>                  <td>GLM<\/td>       <th>  Df Residuals:      <\/th>  <td>  6851<\/td> \n",
       "<\/tr>\n",
       "<tr>\n",
       "  <th>Model Family:<\/th>        <td>Binomial<\/td>     <th>  Df Model:          <\/th>  <td>    16<\/td> \n",
       "<\/tr>\n",
       "<tr>\n",
       "  <th>Link Function:<\/th>         <td>Logit<\/td>      <th>  Scale:             <\/th> <td>  1.0000<\/td>\n",
       "<\/tr>\n",
       "<tr>\n",
       "  <th>Method:<\/th>                <td>IRLS<\/td>       <th>  Log-Likelihood:    <\/th> <td> -3215.9<\/td>\n",
       "<\/tr>\n",
       "<tr>\n",
       "  <th>Date:<\/th>            <td>Fri, 26 May 2023<\/td> <th>  Deviance:          <\/th> <td>  6431.8<\/td>\n",
       "<\/tr>\n",
       "<tr>\n",
       "  <th>Time:<\/th>                <td>14:32:04<\/td>     <th>  Pearson chi2:      <\/th> <td>7.63e+03<\/td>\n",
       "<\/tr>\n",
       "<tr>\n",
       "  <th>No. Iterations:<\/th>          <td>5<\/td>        <th>  Pseudo R-squ. (CS):<\/th>  <td>0.3622<\/td> \n",
       "<\/tr>\n",
       "<tr>\n",
       "  <th>Covariance Type:<\/th>     <td>nonrobust<\/td>    <th>                     <\/th>     <td> <\/td>   \n",
       "<\/tr>\n",
       "<\/table>\n",
       "<table class=\"simpletable\">\n",
       "<tr>\n",
       "                     <td><\/td>                       <th>coef<\/th>     <th>std err<\/th>      <th>z<\/th>      <th>P>|z|<\/th>  <th>[0.025<\/th>    <th>0.975]<\/th>  \n",
       "<\/tr>\n",
       "<tr>\n",
       "  <th>const<\/th>                                  <td>    0.0639<\/td> <td>    0.031<\/td> <td>    2.043<\/td> <td> 0.041<\/td> <td>    0.003<\/td> <td>    0.125<\/td>\n",
       "<\/tr>\n",
       "<tr>\n",
       "  <th>Lead Number<\/th>                            <td>    0.0914<\/td> <td>    0.032<\/td> <td>    2.885<\/td> <td> 0.004<\/td> <td>    0.029<\/td> <td>    0.154<\/td>\n",
       "<\/tr>\n",
       "<tr>\n",
       "  <th>Lead Origin<\/th>                            <td>    0.2383<\/td> <td>    0.036<\/td> <td>    6.678<\/td> <td> 0.000<\/td> <td>    0.168<\/td> <td>    0.308<\/td>\n",
       "<\/tr>\n",
       "<tr>\n",
       "  <th>Lead Source<\/th>                            <td>    0.4466<\/td> <td>    0.037<\/td> <td>   12.005<\/td> <td> 0.000<\/td> <td>    0.374<\/td> <td>    0.519<\/td>\n",
       "<\/tr>\n",
       "<tr>\n",
       "  <th>TotalVisits<\/th>                            <td>    0.0937<\/td> <td>    0.038<\/td> <td>    2.475<\/td> <td> 0.013<\/td> <td>    0.019<\/td> <td>    0.168<\/td>\n",
       "<\/tr>\n",
       "<tr>\n",
       "  <th>Total Time Spent on Website<\/th>            <td>    1.1282<\/td> <td>    0.038<\/td> <td>   29.703<\/td> <td> 0.000<\/td> <td>    1.054<\/td> <td>    1.203<\/td>\n",
       "<\/tr>\n",
       "<tr>\n",
       "  <th>Page Views Per Visit<\/th>                   <td>   -0.3715<\/td> <td>    0.042<\/td> <td>   -8.947<\/td> <td> 0.000<\/td> <td>   -0.453<\/td> <td>   -0.290<\/td>\n",
       "<\/tr>\n",
       "<tr>\n",
       "  <th>Last Activity<\/th>                          <td>    0.3972<\/td> <td>    0.050<\/td> <td>    7.873<\/td> <td> 0.000<\/td> <td>    0.298<\/td> <td>    0.496<\/td>\n",
       "<\/tr>\n",
       "<tr>\n",
       "  <th>Country<\/th>                                <td>   -0.0339<\/td> <td>    0.032<\/td> <td>   -1.055<\/td> <td> 0.291<\/td> <td>   -0.097<\/td> <td>    0.029<\/td>\n",
       "<\/tr>\n",
       "<tr>\n",
       "  <th>Specialization<\/th>                         <td>   -0.2639<\/td> <td>    0.037<\/td> <td>   -7.184<\/td> <td> 0.000<\/td> <td>   -0.336<\/td> <td>   -0.192<\/td>\n",
       "<\/tr>\n",
       "<tr>\n",
       "  <th>How did you hear about X Education<\/th>     <td>    0.0518<\/td> <td>    0.031<\/td> <td>    1.656<\/td> <td> 0.098<\/td> <td>   -0.009<\/td> <td>    0.113<\/td>\n",
       "<\/tr>\n",
       "<tr>\n",
       "  <th>What is your current occupation<\/th>        <td>    0.1432<\/td> <td>    0.034<\/td> <td>    4.201<\/td> <td> 0.000<\/td> <td>    0.076<\/td> <td>    0.210<\/td>\n",
       "<\/tr>\n",
       "<tr>\n",
       "  <th>Tags<\/th>                                   <td>    0.3560<\/td> <td>    0.034<\/td> <td>   10.318<\/td> <td> 0.000<\/td> <td>    0.288<\/td> <td>    0.424<\/td>\n",
       "<\/tr>\n",
       "<tr>\n",
       "  <th>Lead Profile<\/th>                           <td>   -0.9042<\/td> <td>    0.038<\/td> <td>  -23.885<\/td> <td> 0.000<\/td> <td>   -0.978<\/td> <td>   -0.830<\/td>\n",
       "<\/tr>\n",
       "<tr>\n",
       "  <th>City<\/th>                                   <td>    0.2691<\/td> <td>    0.032<\/td> <td>    8.388<\/td> <td> 0.000<\/td> <td>    0.206<\/td> <td>    0.332<\/td>\n",
       "<\/tr>\n",
       "<tr>\n",
       "  <th>A free copy of Mastering The Interview<\/th> <td>   -0.3285<\/td> <td>    0.036<\/td> <td>   -9.033<\/td> <td> 0.000<\/td> <td>   -0.400<\/td> <td>   -0.257<\/td>\n",
       "<\/tr>\n",
       "<tr>\n",
       "  <th>Last Notable Activity<\/th>                  <td>    0.1693<\/td> <td>    0.050<\/td> <td>    3.395<\/td> <td> 0.001<\/td> <td>    0.072<\/td> <td>    0.267<\/td>\n",
       "<\/tr>\n",
       "<\/table>"
      ]
     },
     "metadata":{
      
     },
     "output_type":"display_data"
    }
   ],
   "metadata":{
    "datalore":{
     "node_id":"SGf8pWq1FDHEhXEMgCkn7W",
     "type":"CODE",
     "hide_input_from_viewers":true,
     "hide_output_from_viewers":true
    }
   }
  },
  {
   "cell_type":"code",
   "source":[
    "pred_df = prediction(lr_1,X_train_new_sm,y_train_new,0.4)\n",
    "\n",
    "validating_lr(pred_df['real_op'],pred_df['pred_op'])"
   ],
   "execution_count":60,
   "outputs":[
    {
     "name":"stdout",
     "text":[
      "Accuracy Score 78.46534653465346\n",
      "True Positive rate                         :83.98\n",
      "False postive rate(predicting 1 when its 0):18.0\n",
      "\n",
      "\n"
     ],
     "output_type":"stream"
    },
    {
     "data":{
      "image\/png":"[encoded data removed]"
     },
     "metadata":{
      "image\/png":{
       
      }
     },
     "output_type":"display_data"
    }
   ],
   "metadata":{
    "datalore":{
     "node_id":"VTlNFrnmDNI1taKAVYLJ0w",
     "type":"CODE",
     "hide_input_from_viewers":true,
     "hide_output_from_viewers":true
    }
   }
  },
  {
   "cell_type":"code",
   "source":[
    "X_test_new    = X_test[fcol_list].copy()\n",
    "X_test_new_sm = sm.add_constant(X_test_new )\n",
    "\n",
    "#Predicting the values for MODEL NO 1\n",
    "pred_df = prediction(lr_1,X_test_new_sm,y_test,0.4)\n",
    "\n",
    "#Checking the Evaluation parameters\n",
    "validating_lr(pred_df['real_op'],pred_df['pred_op'])"
   ],
   "execution_count":61,
   "outputs":[
    {
     "name":"stdout",
     "text":[
      "Accuracy Score 76.56926406926407\n",
      "True Positive rate                         :82.7\n",
      "False postive rate(predicting 1 when its 0):13.34\n",
      "\n",
      "\n"
     ],
     "output_type":"stream"
    },
    {
     "data":{
      "image\/png":"[encoded data removed]"
     },
     "metadata":{
      "image\/png":{
       
      }
     },
     "output_type":"display_data"
    }
   ],
   "metadata":{
    "datalore":{
     "node_id":"Bvh81YJjNmAYrD5GHqUDPh",
     "type":"CODE",
     "hide_input_from_viewers":true,
     "hide_output_from_viewers":true
    }
   }
  },
  {
   "cell_type":"code",
   "source":[
    "fcol_list = ['Lead Number', 'Lead Origin', 'Lead Source','TotalVisits', \n",
    "          'Total Time Spent on Website', 'Page Views Per Visit','Last Activity', \n",
    "          'Specialization','What is your current occupation',\n",
    "          'Tags', 'Lead Profile', 'City','A free copy of Mastering The Interview', \n",
    "          'Last Notable Activity']\n",
    "\n",
    "#Adding constants & model building\n",
    "X_train_new_sm = sm.add_constant(X_train_new_sm[fcol_list])\n",
    "lr   = sm.GLM(y_train_new,X_train_new_sm, family = sm.families.Binomial())\n",
    "lr_2 = lr.fit() \n",
    "lr_2.summary()"
   ],
   "execution_count":62,
   "outputs":[
    {
     "data":{
      "text\/html":[
       "<table class=\"simpletable\">\n",
       "<caption>Generalized Linear Model Regression Results<\/caption>\n",
       "<tr>\n",
       "  <th>Dep. Variable:<\/th>           <td>y<\/td>        <th>  No. Observations:  <\/th>  <td>  6868<\/td> \n",
       "<\/tr>\n",
       "<tr>\n",
       "  <th>Model:<\/th>                  <td>GLM<\/td>       <th>  Df Residuals:      <\/th>  <td>  6853<\/td> \n",
       "<\/tr>\n",
       "<tr>\n",
       "  <th>Model Family:<\/th>        <td>Binomial<\/td>     <th>  Df Model:          <\/th>  <td>    14<\/td> \n",
       "<\/tr>\n",
       "<tr>\n",
       "  <th>Link Function:<\/th>         <td>Logit<\/td>      <th>  Scale:             <\/th> <td>  1.0000<\/td>\n",
       "<\/tr>\n",
       "<tr>\n",
       "  <th>Method:<\/th>                <td>IRLS<\/td>       <th>  Log-Likelihood:    <\/th> <td> -3217.8<\/td>\n",
       "<\/tr>\n",
       "<tr>\n",
       "  <th>Date:<\/th>            <td>Fri, 26 May 2023<\/td> <th>  Deviance:          <\/th> <td>  6435.7<\/td>\n",
       "<\/tr>\n",
       "<tr>\n",
       "  <th>Time:<\/th>                <td>14:32:05<\/td>     <th>  Pearson chi2:      <\/th> <td>7.65e+03<\/td>\n",
       "<\/tr>\n",
       "<tr>\n",
       "  <th>No. Iterations:<\/th>          <td>5<\/td>        <th>  Pseudo R-squ. (CS):<\/th>  <td>0.3619<\/td> \n",
       "<\/tr>\n",
       "<tr>\n",
       "  <th>Covariance Type:<\/th>     <td>nonrobust<\/td>    <th>                     <\/th>     <td> <\/td>   \n",
       "<\/tr>\n",
       "<\/table>\n",
       "<table class=\"simpletable\">\n",
       "<tr>\n",
       "                     <td><\/td>                       <th>coef<\/th>     <th>std err<\/th>      <th>z<\/th>      <th>P>|z|<\/th>  <th>[0.025<\/th>    <th>0.975]<\/th>  \n",
       "<\/tr>\n",
       "<tr>\n",
       "  <th>const<\/th>                                  <td>    0.0633<\/td> <td>    0.031<\/td> <td>    2.024<\/td> <td> 0.043<\/td> <td>    0.002<\/td> <td>    0.125<\/td>\n",
       "<\/tr>\n",
       "<tr>\n",
       "  <th>Lead Number<\/th>                            <td>    0.0915<\/td> <td>    0.032<\/td> <td>    2.891<\/td> <td> 0.004<\/td> <td>    0.029<\/td> <td>    0.154<\/td>\n",
       "<\/tr>\n",
       "<tr>\n",
       "  <th>Lead Origin<\/th>                            <td>    0.2339<\/td> <td>    0.036<\/td> <td>    6.577<\/td> <td> 0.000<\/td> <td>    0.164<\/td> <td>    0.304<\/td>\n",
       "<\/tr>\n",
       "<tr>\n",
       "  <th>Lead Source<\/th>                            <td>    0.4505<\/td> <td>    0.037<\/td> <td>   12.144<\/td> <td> 0.000<\/td> <td>    0.378<\/td> <td>    0.523<\/td>\n",
       "<\/tr>\n",
       "<tr>\n",
       "  <th>TotalVisits<\/th>                            <td>    0.0924<\/td> <td>    0.037<\/td> <td>    2.474<\/td> <td> 0.013<\/td> <td>    0.019<\/td> <td>    0.166<\/td>\n",
       "<\/tr>\n",
       "<tr>\n",
       "  <th>Total Time Spent on Website<\/th>            <td>    1.1268<\/td> <td>    0.038<\/td> <td>   29.685<\/td> <td> 0.000<\/td> <td>    1.052<\/td> <td>    1.201<\/td>\n",
       "<\/tr>\n",
       "<tr>\n",
       "  <th>Page Views Per Visit<\/th>                   <td>   -0.3778<\/td> <td>    0.041<\/td> <td>   -9.146<\/td> <td> 0.000<\/td> <td>   -0.459<\/td> <td>   -0.297<\/td>\n",
       "<\/tr>\n",
       "<tr>\n",
       "  <th>Last Activity<\/th>                          <td>    0.3986<\/td> <td>    0.050<\/td> <td>    7.907<\/td> <td> 0.000<\/td> <td>    0.300<\/td> <td>    0.497<\/td>\n",
       "<\/tr>\n",
       "<tr>\n",
       "  <th>Specialization<\/th>                         <td>   -0.2592<\/td> <td>    0.037<\/td> <td>   -7.090<\/td> <td> 0.000<\/td> <td>   -0.331<\/td> <td>   -0.188<\/td>\n",
       "<\/tr>\n",
       "<tr>\n",
       "  <th>What is your current occupation<\/th>        <td>    0.1441<\/td> <td>    0.034<\/td> <td>    4.243<\/td> <td> 0.000<\/td> <td>    0.078<\/td> <td>    0.211<\/td>\n",
       "<\/tr>\n",
       "<tr>\n",
       "  <th>Tags<\/th>                                   <td>    0.3559<\/td> <td>    0.034<\/td> <td>   10.324<\/td> <td> 0.000<\/td> <td>    0.288<\/td> <td>    0.424<\/td>\n",
       "<\/tr>\n",
       "<tr>\n",
       "  <th>Lead Profile<\/th>                           <td>   -0.9052<\/td> <td>    0.038<\/td> <td>  -23.911<\/td> <td> 0.000<\/td> <td>   -0.979<\/td> <td>   -0.831<\/td>\n",
       "<\/tr>\n",
       "<tr>\n",
       "  <th>City<\/th>                                   <td>    0.2703<\/td> <td>    0.032<\/td> <td>    8.434<\/td> <td> 0.000<\/td> <td>    0.208<\/td> <td>    0.333<\/td>\n",
       "<\/tr>\n",
       "<tr>\n",
       "  <th>A free copy of Mastering The Interview<\/th> <td>   -0.3190<\/td> <td>    0.036<\/td> <td>   -8.959<\/td> <td> 0.000<\/td> <td>   -0.389<\/td> <td>   -0.249<\/td>\n",
       "<\/tr>\n",
       "<tr>\n",
       "  <th>Last Notable Activity<\/th>                  <td>    0.1669<\/td> <td>    0.050<\/td> <td>    3.350<\/td> <td> 0.001<\/td> <td>    0.069<\/td> <td>    0.265<\/td>\n",
       "<\/tr>\n",
       "<\/table>"
      ]
     },
     "metadata":{
      
     },
     "output_type":"display_data"
    }
   ],
   "metadata":{
    "datalore":{
     "node_id":"h6eha5qnPIY5No3AsBRjJa",
     "type":"CODE",
     "hide_input_from_viewers":true,
     "hide_output_from_viewers":true
    }
   }
  },
  {
   "cell_type":"code",
   "source":[
    "pred_df = prediction(lr_2,X_train_new_sm,y_train_new,0.5)\n",
    "\n",
    "#Checking the evalution parameters \n",
    "validating_lr(pred_df['real_op'],pred_df['pred_op'])"
   ],
   "execution_count":63,
   "outputs":[
    {
     "name":"stdout",
     "text":[
      "Accuracy Score 78.97495631916132\n",
      "True Positive rate                         :77.17\n",
      "False postive rate(predicting 1 when its 0):22.03\n",
      "\n",
      "\n"
     ],
     "output_type":"stream"
    },
    {
     "data":{
      "image\/png":"[encoded data removed]"
     },
     "metadata":{
      "image\/png":{
       
      }
     },
     "output_type":"display_data"
    }
   ],
   "metadata":{
    "datalore":{
     "node_id":"WFgMi9dn0A6dQuks396uKW",
     "type":"CODE",
     "hide_input_from_viewers":true,
     "hide_output_from_viewers":true
    }
   }
  },
  {
   "cell_type":"code",
   "source":[
    "draw_roc(pred_df['real_op'],pred_df['pred_op'])"
   ],
   "execution_count":64,
   "outputs":[
    {
     "data":{
      "image\/png":"[encoded data removed]"
     },
     "metadata":{
      "image\/png":{
       
      }
     },
     "output_type":"display_data"
    }
   ],
   "metadata":{
    "datalore":{
     "node_id":"ED98I4eNW6K4QsYHoxoLub",
     "type":"CODE",
     "hide_input_from_viewers":true,
     "hide_output_from_viewers":true
    }
   }
  },
  {
   "cell_type":"code",
   "source":[
    "X_test_new    = X_test[fcol_list].copy()\n",
    "X_test_new_sm = sm.add_constant(X_test_new )\n",
    "\n",
    "pred_df = prediction(lr_2,X_test_new_sm,y_test,0.4)\n",
    "\n",
    "#Checking the evalution parameters \n",
    "validating_lr(pred_df['real_op'],pred_df['pred_op'])"
   ],
   "execution_count":65,
   "outputs":[
    {
     "name":"stdout",
     "text":[
      "Accuracy Score 76.65043290043289\n",
      "True Positive rate                         :82.77\n",
      "False postive rate(predicting 1 when its 0):13.28\n",
      "\n",
      "\n"
     ],
     "output_type":"stream"
    },
    {
     "data":{
      "image\/png":"[encoded data removed]"
     },
     "metadata":{
      "image\/png":{
       
      }
     },
     "output_type":"display_data"
    }
   ],
   "metadata":{
    "datalore":{
     "node_id":"zDaVDxwbugBkLgBV57d8l2",
     "type":"CODE",
     "hide_input_from_viewers":true,
     "hide_output_from_viewers":true
    }
   }
  },
  {
   "cell_type":"code",
   "source":[
    "X_test_new    = X_test[fcol_list].copy()\n",
    "X_test_new_sm = sm.add_constant(X_test_new )\n",
    "\n",
    "pred_df = prediction(lr_2,X_test_new_sm,y_test,0.2)\n",
    "\n",
    "#Checking the evalution parameters \n",
    "validating_lr(pred_df['real_op'],pred_df['pred_op'])"
   ],
   "execution_count":66,
   "outputs":[
    {
     "name":"stdout",
     "text":[
      "Accuracy Score 63.4469696969697\n",
      "True Positive rate                         :94.35\n",
      "False postive rate(predicting 1 when its 0):7.75\n",
      "\n",
      "\n"
     ],
     "output_type":"stream"
    },
    {
     "data":{
      "image\/png":"[encoded data removed]"
     },
     "metadata":{
      "image\/png":{
       
      }
     },
     "output_type":"display_data"
    }
   ],
   "metadata":{
    "datalore":{
     "node_id":"r1Z4H3DO1N0JpfWRD1uMzY",
     "type":"CODE",
     "hide_input_from_viewers":true,
     "hide_output_from_viewers":true
    }
   }
  }
 ],
 "metadata":{
  "kernelspec":{
   "display_name":"Python",
   "language":"python",
   "name":"python"
  },
  "datalore":{
   "computation_mode":"JUPYTER",
   "package_manager":"pip",
   "base_environment":"default",
   "packages":[
    {
     "name":"missingno",
     "source":"PIP"
    },
    {
     "name":"imblearn",
     "source":"PIP"
    }
   ],
   "report_row_ids":[
    
   ],
   "version":3
  }
 },
 "nbformat":4,
 "nbformat_minor":4
}